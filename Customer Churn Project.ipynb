{
 "cells": [
  {
   "cell_type": "markdown",
   "metadata": {},
   "source": [
    "---\n",
    "---\n",
    "---\n",
    "---\n",
    "---\n",
    "---\n",
    "---\n",
    "---\n",
    "---\n",
    "---\n",
    "\n",
    "#  *`Machine Learning Project`*\n",
    "\n",
    "--- by Kashish Khanna (S3773998)\n",
    "\n",
    "---\n",
    "---\n",
    "---\n",
    "---\n",
    "---\n",
    "---\n",
    "---\n",
    "---\n",
    "---\n",
    "---"
   ]
  },
  {
   "cell_type": "markdown",
   "metadata": {},
   "source": [
    "# Table of Contents"
   ]
  },
  {
   "cell_type": "markdown",
   "metadata": {},
   "source": [
    "- **[Introduction](#intro)**<br><br>\n",
    "- **[Data-Set](#dataset)**<br><br>\n",
    "- **[Loading the Libraries](#library)**<br><br>\n",
    "- **[Reading the Dataset in](#data)**<br><br>\n",
    "- **[Data Preparation](#prep)**\n",
    "1. [Summary Statistics](#stats)\n",
    "2. [Correlation Matrix](#corr)\n",
    "3. [Checking Missing Values](#missing)\n",
    "4. [Counting Unique Values](#unique)<br><br>\n",
    "- **[Data Cleaning](#clean)**\n",
    "- [Dropping Rows with missing values](#drop)\n",
    "- [Dealing with Outliers](#outlier)<br><br>\n",
    "- **[Data Preprocessing](#preprocess)**<br><br>\n",
    "- **[Data Exploration](#explore)**<br><br>\n",
    "- **[Feature Selection and Ranking](#feature)**<br><br>\n",
    "- **[Spliting Data into Training and Test Sets](#sdtts)**<br><br>\n",
    "- **[Model Fitting](#fit)**\n",
    "- [K-Nearest Neighbors (KNN)](#knn1)\n",
    "- [(Gaussian) Naive Bayes (NB)](#nb1)\n",
    "- [Decision Trees(DT)](#dt1)<br><br>\n",
    "- **[Model Evaluation Strategy](#eval)**<br><br>\n",
    "- **[Hyperparameter Tuning](#tune)**\n",
    "- [K-Nearest Neighbors (KNN)](#knn)\n",
    "- [(Gaussian) Naive Bayes (NB)](#nb)\n",
    "- [Decision Trees(DT)](#dt)<br><br>\n",
    "- **[Performance Comparison](#pc)**<br><br>\n",
    "- **[Discussion](#discuss)**<br><br>\n",
    "- **[References](#refer)**"
   ]
  },
  {
   "cell_type": "markdown",
   "metadata": {},
   "source": [
    "# Introduction <a> </a>"
   ]
  },
  {
   "cell_type": "markdown",
   "metadata": {},
   "source": [
    "A certain premium club boasts a large customer membership. The members pay an annual membership fee in return for using the exclusive facilities offered by this club. The fees are customized for every member's personal package. Some Customers have customised package which suits thier needs and are specially designed for them keeping into consideration thier status we assume is indirectly signified by keeping thier annual income into consideration.\n",
    "\n",
    "In the last few years, however, the club has been facing an issue with a lot of members cancelling their memberships which are shown by the `MEMBERSHIP_STATUS` followed by the `START_DATE` and `END_DATE` of the Memberships. `END_DATE` column provides the dates when the membership was cancelled else if the membership is continued it is labelled as &gt; INFORCE&gt;  in the `MEMBERSHIP_STATUS`, hence, `END_DATE` does not show any date.\n",
    "\n",
    "The club management plans to address this issue by proactively addressing customer grievances. They, however, do not have enough bandwidth to reach out to the entire customer base individually and are looking to see whether a statistical approach can help them identify customers at risk."
   ]
  },
  {
   "cell_type": "markdown",
   "metadata": {},
   "source": [
    "# Data-Set <a> </a>"
   ]
  },
  {
   "cell_type": "markdown",
   "metadata": {},
   "source": [
    "&gt;\n",
    "&gt; `MEMBERSHIP_TERM_YEARS` - Member Services Duration\n",
    "\n",
    "&gt; `MEMBER_AGE_AT_ISSUE` - Age of members when, Cancelled or Enforced \n",
    "\n",
    "&gt; `ADDITIONAL_MEMBERS` - Add-In Members\n",
    "\n",
    "&gt; `START_DATE` - The starting date of members using Club Services\n",
    "\n",
    "&gt; `ANNUAL_FEES` - Annual Fees of the Club Services \n",
    "\n",
    "&gt; `MEMBER_ANNUAL_INCOME` - Annual Income of Members\n",
    "\n",
    "&gt; `MEMBER_OCCUPATION_CD` - Occupation of Members\n",
    "\n",
    "&gt; `END_DATE` - The Ending Dates of Members using Club Services\n",
    "\n",
    "&gt; `MEMBERSHIP_NUMBER` - Member IDs (Unique/ ID Columns of the dataset)\n",
    "\n",
    "&gt; `MEMBER_MARITAL_STATUS` - Member Marriage status( Single, Divorced, Married, Widowed )\n",
    "\n",
    "&gt; `MEMBER_GENDER` - Gender of the Members \n",
    "\n",
    "&gt; `MEMBERSHIP_PACKAGE` - Club's Package for the Members  \n",
    "\n",
    "&gt; `PAYMENT_MODE` - Single-Premium, Annual, Semi-Annual, Quarterly, Monthly \n",
    "\n",
    "&gt; `AGENT_CODE` - Agent ID of the Agents from which the Member joined the Club\n",
    "\n",
    "&gt; `MEMBERSHIP_STATUS` - *Cancelled*, (Active) *Inforced* (Target Labels) where cancelled is the Positive Class in order to understand(analyse) the customers at risk.  ***( Our Target Variable )***"
   ]
  },
  {
   "cell_type": "markdown",
   "metadata": {},
   "source": [
    "# Loading the Libraries <a> </a>"
   ]
  },
  {
   "cell_type": "code",
   "execution_count": 1,
   "metadata": {},
   "outputs": [],
   "source": [
    "#!pip install --upgrade altair\n",
    "\n",
    "#!pip install vega vega_datasets\n",
    "\n",
    "import warnings\n",
    "warnings.filterwarnings(\"ignore\")\n",
    "\n",
    "import pandas as pd\n",
    "import numpy as np\n",
    "import seaborn as sns\n",
    "from sklearn.model_selection import cross_val_score, RepeatedStratifiedKFold, StratifiedKFold, GridSearchCV\n",
    "from sklearn import preprocessing\n",
    "import altair as alt\n",
    "alt.renderers.enable('notebook') # required in Jupyter notebooks\n",
    "import sklearn.metrics as metrics\n",
    "from sklearn.ensemble import RandomForestClassifier\n",
    "from sklearn import feature_selection as fs\n",
    "from sklearn.neighbors import KNeighborsClassifier\n",
    "from sklearn.model_selection import train_test_split"
   ]
  },
  {
   "cell_type": "markdown",
   "metadata": {},
   "source": [
    "# Reading the dataset in <a> </a>"
   ]
  },
  {
   "cell_type": "code",
   "execution_count": 2,
   "metadata": {},
   "outputs": [],
   "source": [
    "data = pd.read_csv('S3773998_Data.csv')"
   ]
  },
  {
   "cell_type": "code",
   "execution_count": 3,
   "metadata": {},
   "outputs": [
    {
     "data": {
      "text/html": [
       "<div>\n",
       "<style>\n",
       "    .dataframe tbody tr th:only-of-type {\n",
       "        vertical-align: middle;\n",
       "    }\n",
       "\n",
       "    .dataframe tbody tr th {\n",
       "        vertical-align: top;\n",
       "    }\n",
       "\n",
       "    .dataframe thead th {\n",
       "        text-align: right;\n",
       "    }\n",
       "</style>\n",
       "<table class=\"dataframe\">\n",
       "  <thead>\n",
       "    <tr style=\"text-align: right;\">\n",
       "      <th></th>\n",
       "      <th>MEMBERSHIP_NUMBER</th>\n",
       "      <th>MEMBERSHIP_TERM_YEARS</th>\n",
       "      <th>ANNUAL_FEES</th>\n",
       "      <th>MEMBER_MARITAL_STATUS</th>\n",
       "      <th>MEMBER_GENDER</th>\n",
       "      <th>MEMBER_ANNUAL_INCOME</th>\n",
       "      <th>MEMBER_OCCUPATION_CD</th>\n",
       "      <th>MEMBERSHIP_PACKAGE</th>\n",
       "      <th>MEMBER_AGE_AT_ISSUE</th>\n",
       "      <th>ADDITIONAL_MEMBERS</th>\n",
       "      <th>PAYMENT_MODE</th>\n",
       "      <th>AGENT_CODE</th>\n",
       "      <th>MEMBERSHIP_STATUS</th>\n",
       "      <th>START_DATE</th>\n",
       "      <th>END_DATE</th>\n",
       "    </tr>\n",
       "  </thead>\n",
       "  <tbody>\n",
       "    <tr>\n",
       "      <th>0</th>\n",
       "      <td>A00001</td>\n",
       "      <td>29</td>\n",
       "      <td>113125.0</td>\n",
       "      <td>M</td>\n",
       "      <td>M</td>\n",
       "      <td>25200000.0</td>\n",
       "      <td>1.0</td>\n",
       "      <td>TYPE-B</td>\n",
       "      <td>45</td>\n",
       "      <td>2</td>\n",
       "      <td>ANNUAL</td>\n",
       "      <td>477</td>\n",
       "      <td>INFORCE</td>\n",
       "      <td>20060914</td>\n",
       "      <td>NaN</td>\n",
       "    </tr>\n",
       "    <tr>\n",
       "      <th>1</th>\n",
       "      <td>A00002</td>\n",
       "      <td>38</td>\n",
       "      <td>112220.0</td>\n",
       "      <td>M</td>\n",
       "      <td>M</td>\n",
       "      <td>10339200.0</td>\n",
       "      <td>1.0</td>\n",
       "      <td>TYPE-B</td>\n",
       "      <td>36</td>\n",
       "      <td>3</td>\n",
       "      <td>QUARTERLY</td>\n",
       "      <td>255</td>\n",
       "      <td>INFORCE</td>\n",
       "      <td>20061102</td>\n",
       "      <td>NaN</td>\n",
       "    </tr>\n",
       "    <tr>\n",
       "      <th>2</th>\n",
       "      <td>A00003</td>\n",
       "      <td>12</td>\n",
       "      <td>100000.0</td>\n",
       "      <td>M</td>\n",
       "      <td>M</td>\n",
       "      <td>14400000.0</td>\n",
       "      <td>1.0</td>\n",
       "      <td>TYPE-B</td>\n",
       "      <td>42</td>\n",
       "      <td>1</td>\n",
       "      <td>ANNUAL</td>\n",
       "      <td>7866</td>\n",
       "      <td>INFORCE</td>\n",
       "      <td>20070124</td>\n",
       "      <td>NaN</td>\n",
       "    </tr>\n",
       "    <tr>\n",
       "      <th>3</th>\n",
       "      <td>A00004</td>\n",
       "      <td>12</td>\n",
       "      <td>100000.0</td>\n",
       "      <td>M</td>\n",
       "      <td>M</td>\n",
       "      <td>9000000.0</td>\n",
       "      <td>1.0</td>\n",
       "      <td>TYPE-B</td>\n",
       "      <td>39</td>\n",
       "      <td>2</td>\n",
       "      <td>ANNUAL</td>\n",
       "      <td>200533</td>\n",
       "      <td>INFORCE</td>\n",
       "      <td>20070122</td>\n",
       "      <td>NaN</td>\n",
       "    </tr>\n",
       "    <tr>\n",
       "      <th>4</th>\n",
       "      <td>A00005</td>\n",
       "      <td>46</td>\n",
       "      <td>100000.0</td>\n",
       "      <td>M</td>\n",
       "      <td>M</td>\n",
       "      <td>4800000.0</td>\n",
       "      <td>1.0</td>\n",
       "      <td>TYPE-B</td>\n",
       "      <td>27</td>\n",
       "      <td>2</td>\n",
       "      <td>QUARTERLY</td>\n",
       "      <td>6988</td>\n",
       "      <td>INFORCE</td>\n",
       "      <td>20070131</td>\n",
       "      <td>NaN</td>\n",
       "    </tr>\n",
       "    <tr>\n",
       "      <th>5</th>\n",
       "      <td>A00006</td>\n",
       "      <td>12</td>\n",
       "      <td>110000.0</td>\n",
       "      <td>NaN</td>\n",
       "      <td>NaN</td>\n",
       "      <td>NaN</td>\n",
       "      <td>1.0</td>\n",
       "      <td>TYPE-B</td>\n",
       "      <td>48</td>\n",
       "      <td>3</td>\n",
       "      <td>ANNUAL</td>\n",
       "      <td>5311</td>\n",
       "      <td>INFORCE</td>\n",
       "      <td>20070215</td>\n",
       "      <td>NaN</td>\n",
       "    </tr>\n",
       "    <tr>\n",
       "      <th>6</th>\n",
       "      <td>A00007</td>\n",
       "      <td>36</td>\n",
       "      <td>100000.0</td>\n",
       "      <td>M</td>\n",
       "      <td>M</td>\n",
       "      <td>24000000.0</td>\n",
       "      <td>1.0</td>\n",
       "      <td>TYPE-B</td>\n",
       "      <td>39</td>\n",
       "      <td>2</td>\n",
       "      <td>ANNUAL</td>\n",
       "      <td>4055</td>\n",
       "      <td>INFORCE</td>\n",
       "      <td>20070221</td>\n",
       "      <td>NaN</td>\n",
       "    </tr>\n",
       "    <tr>\n",
       "      <th>7</th>\n",
       "      <td>A00008</td>\n",
       "      <td>12</td>\n",
       "      <td>120000.0</td>\n",
       "      <td>M</td>\n",
       "      <td>M</td>\n",
       "      <td>3600000.0</td>\n",
       "      <td>1.0</td>\n",
       "      <td>TYPE-B</td>\n",
       "      <td>28</td>\n",
       "      <td>1</td>\n",
       "      <td>QUARTERLY</td>\n",
       "      <td>13100</td>\n",
       "      <td>CANCELLED</td>\n",
       "      <td>20070312</td>\n",
       "      <td>20090811.0</td>\n",
       "    </tr>\n",
       "    <tr>\n",
       "      <th>8</th>\n",
       "      <td>A00009</td>\n",
       "      <td>35</td>\n",
       "      <td>120000.0</td>\n",
       "      <td>NaN</td>\n",
       "      <td>NaN</td>\n",
       "      <td>NaN</td>\n",
       "      <td>1.0</td>\n",
       "      <td>TYPE-B</td>\n",
       "      <td>35</td>\n",
       "      <td>2</td>\n",
       "      <td>MONTHLY</td>\n",
       "      <td>4522</td>\n",
       "      <td>INFORCE</td>\n",
       "      <td>20070316</td>\n",
       "      <td>NaN</td>\n",
       "    </tr>\n",
       "    <tr>\n",
       "      <th>9</th>\n",
       "      <td>A00010</td>\n",
       "      <td>33</td>\n",
       "      <td>102700.0</td>\n",
       "      <td>M</td>\n",
       "      <td>M</td>\n",
       "      <td>14400000.0</td>\n",
       "      <td>1.0</td>\n",
       "      <td>TYPE-B</td>\n",
       "      <td>42</td>\n",
       "      <td>2</td>\n",
       "      <td>SEMI-ANNUAL</td>\n",
       "      <td>11266</td>\n",
       "      <td>INFORCE</td>\n",
       "      <td>20070330</td>\n",
       "      <td>NaN</td>\n",
       "    </tr>\n",
       "  </tbody>\n",
       "</table>\n",
       "</div>"
      ],
      "text/plain": [
       "  MEMBERSHIP_NUMBER  MEMBERSHIP_TERM_YEARS  ANNUAL_FEES MEMBER_MARITAL_STATUS  \\\n",
       "0            A00001                     29     113125.0                     M   \n",
       "1            A00002                     38     112220.0                     M   \n",
       "2            A00003                     12     100000.0                     M   \n",
       "3            A00004                     12     100000.0                     M   \n",
       "4            A00005                     46     100000.0                     M   \n",
       "5            A00006                     12     110000.0                   NaN   \n",
       "6            A00007                     36     100000.0                     M   \n",
       "7            A00008                     12     120000.0                     M   \n",
       "8            A00009                     35     120000.0                   NaN   \n",
       "9            A00010                     33     102700.0                     M   \n",
       "\n",
       "  MEMBER_GENDER  MEMBER_ANNUAL_INCOME  MEMBER_OCCUPATION_CD  \\\n",
       "0             M            25200000.0                   1.0   \n",
       "1             M            10339200.0                   1.0   \n",
       "2             M            14400000.0                   1.0   \n",
       "3             M             9000000.0                   1.0   \n",
       "4             M             4800000.0                   1.0   \n",
       "5           NaN                   NaN                   1.0   \n",
       "6             M            24000000.0                   1.0   \n",
       "7             M             3600000.0                   1.0   \n",
       "8           NaN                   NaN                   1.0   \n",
       "9             M            14400000.0                   1.0   \n",
       "\n",
       "  MEMBERSHIP_PACKAGE  MEMBER_AGE_AT_ISSUE  ADDITIONAL_MEMBERS PAYMENT_MODE  \\\n",
       "0             TYPE-B                   45                   2       ANNUAL   \n",
       "1             TYPE-B                   36                   3    QUARTERLY   \n",
       "2             TYPE-B                   42                   1       ANNUAL   \n",
       "3             TYPE-B                   39                   2       ANNUAL   \n",
       "4             TYPE-B                   27                   2    QUARTERLY   \n",
       "5             TYPE-B                   48                   3       ANNUAL   \n",
       "6             TYPE-B                   39                   2       ANNUAL   \n",
       "7             TYPE-B                   28                   1    QUARTERLY   \n",
       "8             TYPE-B                   35                   2      MONTHLY   \n",
       "9             TYPE-B                   42                   2  SEMI-ANNUAL   \n",
       "\n",
       "  AGENT_CODE MEMBERSHIP_STATUS  START_DATE    END_DATE  \n",
       "0        477           INFORCE    20060914         NaN  \n",
       "1        255           INFORCE    20061102         NaN  \n",
       "2       7866           INFORCE    20070124         NaN  \n",
       "3     200533           INFORCE    20070122         NaN  \n",
       "4       6988           INFORCE    20070131         NaN  \n",
       "5       5311           INFORCE    20070215         NaN  \n",
       "6       4055           INFORCE    20070221         NaN  \n",
       "7      13100         CANCELLED    20070312  20090811.0  \n",
       "8       4522           INFORCE    20070316         NaN  \n",
       "9      11266           INFORCE    20070330         NaN  "
      ]
     },
     "execution_count": 3,
     "metadata": {},
     "output_type": "execute_result"
    }
   ],
   "source": [
    "data.head(10)"
   ]
  },
  {
   "cell_type": "markdown",
   "metadata": {},
   "source": [
    "# Data Preparation <a> </a>"
   ]
  },
  {
   "cell_type": "markdown",
   "metadata": {},
   "source": [
    "## Summary Statistics <a> </a>"
   ]
  },
  {
   "cell_type": "code",
   "execution_count": 4,
   "metadata": {},
   "outputs": [
    {
     "data": {
      "text/html": [
       "<div>\n",
       "<style>\n",
       "    .dataframe tbody tr th:only-of-type {\n",
       "        vertical-align: middle;\n",
       "    }\n",
       "\n",
       "    .dataframe tbody tr th {\n",
       "        vertical-align: top;\n",
       "    }\n",
       "\n",
       "    .dataframe thead th {\n",
       "        text-align: right;\n",
       "    }\n",
       "</style>\n",
       "<table class=\"dataframe\">\n",
       "  <thead>\n",
       "    <tr style=\"text-align: right;\">\n",
       "      <th></th>\n",
       "      <th>MEMBERSHIP_NUMBER</th>\n",
       "      <th>MEMBERSHIP_TERM_YEARS</th>\n",
       "      <th>ANNUAL_FEES</th>\n",
       "      <th>MEMBER_MARITAL_STATUS</th>\n",
       "      <th>MEMBER_GENDER</th>\n",
       "      <th>MEMBER_ANNUAL_INCOME</th>\n",
       "      <th>MEMBER_OCCUPATION_CD</th>\n",
       "      <th>MEMBERSHIP_PACKAGE</th>\n",
       "      <th>MEMBER_AGE_AT_ISSUE</th>\n",
       "      <th>ADDITIONAL_MEMBERS</th>\n",
       "      <th>PAYMENT_MODE</th>\n",
       "      <th>AGENT_CODE</th>\n",
       "      <th>MEMBERSHIP_STATUS</th>\n",
       "      <th>START_DATE</th>\n",
       "      <th>END_DATE</th>\n",
       "    </tr>\n",
       "  </thead>\n",
       "  <tbody>\n",
       "    <tr>\n",
       "      <th>count</th>\n",
       "      <td>10362</td>\n",
       "      <td>10362.000000</td>\n",
       "      <td>1.036200e+04</td>\n",
       "      <td>7765</td>\n",
       "      <td>9751</td>\n",
       "      <td>8.608000e+03</td>\n",
       "      <td>10319.000000</td>\n",
       "      <td>10362</td>\n",
       "      <td>10362.000000</td>\n",
       "      <td>10362.000000</td>\n",
       "      <td>10362</td>\n",
       "      <td>10362</td>\n",
       "      <td>10362</td>\n",
       "      <td>1.036200e+04</td>\n",
       "      <td>3.143000e+03</td>\n",
       "    </tr>\n",
       "    <tr>\n",
       "      <th>unique</th>\n",
       "      <td>10362</td>\n",
       "      <td>NaN</td>\n",
       "      <td>NaN</td>\n",
       "      <td>4</td>\n",
       "      <td>2</td>\n",
       "      <td>NaN</td>\n",
       "      <td>NaN</td>\n",
       "      <td>2</td>\n",
       "      <td>NaN</td>\n",
       "      <td>NaN</td>\n",
       "      <td>5</td>\n",
       "      <td>4317</td>\n",
       "      <td>2</td>\n",
       "      <td>NaN</td>\n",
       "      <td>NaN</td>\n",
       "    </tr>\n",
       "    <tr>\n",
       "      <th>top</th>\n",
       "      <td>A05982</td>\n",
       "      <td>NaN</td>\n",
       "      <td>NaN</td>\n",
       "      <td>M</td>\n",
       "      <td>M</td>\n",
       "      <td>NaN</td>\n",
       "      <td>NaN</td>\n",
       "      <td>TYPE-B</td>\n",
       "      <td>NaN</td>\n",
       "      <td>NaN</td>\n",
       "      <td>ANNUAL</td>\n",
       "      <td>343344</td>\n",
       "      <td>INFORCE</td>\n",
       "      <td>NaN</td>\n",
       "      <td>NaN</td>\n",
       "    </tr>\n",
       "    <tr>\n",
       "      <th>freq</th>\n",
       "      <td>1</td>\n",
       "      <td>NaN</td>\n",
       "      <td>NaN</td>\n",
       "      <td>6430</td>\n",
       "      <td>7330</td>\n",
       "      <td>NaN</td>\n",
       "      <td>NaN</td>\n",
       "      <td>6809</td>\n",
       "      <td>NaN</td>\n",
       "      <td>NaN</td>\n",
       "      <td>6589</td>\n",
       "      <td>612</td>\n",
       "      <td>7219</td>\n",
       "      <td>NaN</td>\n",
       "      <td>NaN</td>\n",
       "    </tr>\n",
       "    <tr>\n",
       "      <th>mean</th>\n",
       "      <td>NaN</td>\n",
       "      <td>29.395001</td>\n",
       "      <td>1.788122e+05</td>\n",
       "      <td>NaN</td>\n",
       "      <td>NaN</td>\n",
       "      <td>1.451100e+06</td>\n",
       "      <td>1.711019</td>\n",
       "      <td>NaN</td>\n",
       "      <td>46.798494</td>\n",
       "      <td>1.412276</td>\n",
       "      <td>NaN</td>\n",
       "      <td>NaN</td>\n",
       "      <td>NaN</td>\n",
       "      <td>2.010828e+07</td>\n",
       "      <td>2.011390e+07</td>\n",
       "    </tr>\n",
       "    <tr>\n",
       "      <th>std</th>\n",
       "      <td>NaN</td>\n",
       "      <td>22.427712</td>\n",
       "      <td>2.688747e+05</td>\n",
       "      <td>NaN</td>\n",
       "      <td>NaN</td>\n",
       "      <td>1.757174e+07</td>\n",
       "      <td>1.453960</td>\n",
       "      <td>NaN</td>\n",
       "      <td>13.897085</td>\n",
       "      <td>1.145136</td>\n",
       "      <td>NaN</td>\n",
       "      <td>NaN</td>\n",
       "      <td>NaN</td>\n",
       "      <td>1.719666e+04</td>\n",
       "      <td>1.378483e+04</td>\n",
       "    </tr>\n",
       "    <tr>\n",
       "      <th>min</th>\n",
       "      <td>NaN</td>\n",
       "      <td>9.000000</td>\n",
       "      <td>0.000000e+00</td>\n",
       "      <td>NaN</td>\n",
       "      <td>NaN</td>\n",
       "      <td>9.996000e+03</td>\n",
       "      <td>1.000000</td>\n",
       "      <td>NaN</td>\n",
       "      <td>0.000000</td>\n",
       "      <td>0.000000</td>\n",
       "      <td>NaN</td>\n",
       "      <td>NaN</td>\n",
       "      <td>NaN</td>\n",
       "      <td>2.006091e+07</td>\n",
       "      <td>2.007083e+07</td>\n",
       "    </tr>\n",
       "    <tr>\n",
       "      <th>25%</th>\n",
       "      <td>NaN</td>\n",
       "      <td>12.000000</td>\n",
       "      <td>1.000000e+05</td>\n",
       "      <td>NaN</td>\n",
       "      <td>NaN</td>\n",
       "      <td>3.999960e+05</td>\n",
       "      <td>1.000000</td>\n",
       "      <td>NaN</td>\n",
       "      <td>37.000000</td>\n",
       "      <td>0.000000</td>\n",
       "      <td>NaN</td>\n",
       "      <td>NaN</td>\n",
       "      <td>NaN</td>\n",
       "      <td>2.009123e+07</td>\n",
       "      <td>2.010122e+07</td>\n",
       "    </tr>\n",
       "    <tr>\n",
       "      <th>50%</th>\n",
       "      <td>NaN</td>\n",
       "      <td>19.000000</td>\n",
       "      <td>1.182093e+05</td>\n",
       "      <td>NaN</td>\n",
       "      <td>NaN</td>\n",
       "      <td>5.499960e+05</td>\n",
       "      <td>1.000000</td>\n",
       "      <td>NaN</td>\n",
       "      <td>46.000000</td>\n",
       "      <td>1.000000</td>\n",
       "      <td>NaN</td>\n",
       "      <td>NaN</td>\n",
       "      <td>NaN</td>\n",
       "      <td>2.010123e+07</td>\n",
       "      <td>2.011113e+07</td>\n",
       "    </tr>\n",
       "    <tr>\n",
       "      <th>75%</th>\n",
       "      <td>NaN</td>\n",
       "      <td>37.000000</td>\n",
       "      <td>1.900000e+05</td>\n",
       "      <td>NaN</td>\n",
       "      <td>NaN</td>\n",
       "      <td>9.999960e+05</td>\n",
       "      <td>2.000000</td>\n",
       "      <td>NaN</td>\n",
       "      <td>57.000000</td>\n",
       "      <td>2.000000</td>\n",
       "      <td>NaN</td>\n",
       "      <td>NaN</td>\n",
       "      <td>NaN</td>\n",
       "      <td>2.012123e+07</td>\n",
       "      <td>2.013012e+07</td>\n",
       "    </tr>\n",
       "    <tr>\n",
       "      <th>max</th>\n",
       "      <td>NaN</td>\n",
       "      <td>102.000000</td>\n",
       "      <td>1.010000e+07</td>\n",
       "      <td>NaN</td>\n",
       "      <td>NaN</td>\n",
       "      <td>1.000000e+09</td>\n",
       "      <td>6.000000</td>\n",
       "      <td>NaN</td>\n",
       "      <td>92.000000</td>\n",
       "      <td>3.000000</td>\n",
       "      <td>NaN</td>\n",
       "      <td>NaN</td>\n",
       "      <td>NaN</td>\n",
       "      <td>2.013113e+07</td>\n",
       "      <td>2.013112e+07</td>\n",
       "    </tr>\n",
       "  </tbody>\n",
       "</table>\n",
       "</div>"
      ],
      "text/plain": [
       "       MEMBERSHIP_NUMBER  MEMBERSHIP_TERM_YEARS   ANNUAL_FEES  \\\n",
       "count              10362           10362.000000  1.036200e+04   \n",
       "unique             10362                    NaN           NaN   \n",
       "top               A05982                    NaN           NaN   \n",
       "freq                   1                    NaN           NaN   \n",
       "mean                 NaN              29.395001  1.788122e+05   \n",
       "std                  NaN              22.427712  2.688747e+05   \n",
       "min                  NaN               9.000000  0.000000e+00   \n",
       "25%                  NaN              12.000000  1.000000e+05   \n",
       "50%                  NaN              19.000000  1.182093e+05   \n",
       "75%                  NaN              37.000000  1.900000e+05   \n",
       "max                  NaN             102.000000  1.010000e+07   \n",
       "\n",
       "       MEMBER_MARITAL_STATUS MEMBER_GENDER  MEMBER_ANNUAL_INCOME  \\\n",
       "count                   7765          9751          8.608000e+03   \n",
       "unique                     4             2                   NaN   \n",
       "top                        M             M                   NaN   \n",
       "freq                    6430          7330                   NaN   \n",
       "mean                     NaN           NaN          1.451100e+06   \n",
       "std                      NaN           NaN          1.757174e+07   \n",
       "min                      NaN           NaN          9.996000e+03   \n",
       "25%                      NaN           NaN          3.999960e+05   \n",
       "50%                      NaN           NaN          5.499960e+05   \n",
       "75%                      NaN           NaN          9.999960e+05   \n",
       "max                      NaN           NaN          1.000000e+09   \n",
       "\n",
       "        MEMBER_OCCUPATION_CD MEMBERSHIP_PACKAGE  MEMBER_AGE_AT_ISSUE  \\\n",
       "count           10319.000000              10362         10362.000000   \n",
       "unique                   NaN                  2                  NaN   \n",
       "top                      NaN             TYPE-B                  NaN   \n",
       "freq                     NaN               6809                  NaN   \n",
       "mean                1.711019                NaN            46.798494   \n",
       "std                 1.453960                NaN            13.897085   \n",
       "min                 1.000000                NaN             0.000000   \n",
       "25%                 1.000000                NaN            37.000000   \n",
       "50%                 1.000000                NaN            46.000000   \n",
       "75%                 2.000000                NaN            57.000000   \n",
       "max                 6.000000                NaN            92.000000   \n",
       "\n",
       "        ADDITIONAL_MEMBERS PAYMENT_MODE AGENT_CODE MEMBERSHIP_STATUS  \\\n",
       "count         10362.000000        10362      10362             10362   \n",
       "unique                 NaN            5       4317                 2   \n",
       "top                    NaN       ANNUAL     343344           INFORCE   \n",
       "freq                   NaN         6589        612              7219   \n",
       "mean              1.412276          NaN        NaN               NaN   \n",
       "std               1.145136          NaN        NaN               NaN   \n",
       "min               0.000000          NaN        NaN               NaN   \n",
       "25%               0.000000          NaN        NaN               NaN   \n",
       "50%               1.000000          NaN        NaN               NaN   \n",
       "75%               2.000000          NaN        NaN               NaN   \n",
       "max               3.000000          NaN        NaN               NaN   \n",
       "\n",
       "          START_DATE      END_DATE  \n",
       "count   1.036200e+04  3.143000e+03  \n",
       "unique           NaN           NaN  \n",
       "top              NaN           NaN  \n",
       "freq             NaN           NaN  \n",
       "mean    2.010828e+07  2.011390e+07  \n",
       "std     1.719666e+04  1.378483e+04  \n",
       "min     2.006091e+07  2.007083e+07  \n",
       "25%     2.009123e+07  2.010122e+07  \n",
       "50%     2.010123e+07  2.011113e+07  \n",
       "75%     2.012123e+07  2.013012e+07  \n",
       "max     2.013113e+07  2.013112e+07  "
      ]
     },
     "execution_count": 4,
     "metadata": {},
     "output_type": "execute_result"
    }
   ],
   "source": [
    "data.describe(include = 'all')"
   ]
  },
  {
   "cell_type": "markdown",
   "metadata": {},
   "source": [
    "## Correlation Matrix <a> </a>"
   ]
  },
  {
   "cell_type": "code",
   "execution_count": 5,
   "metadata": {},
   "outputs": [
    {
     "data": {
      "text/plain": [
       "<matplotlib.axes._subplots.AxesSubplot at 0x7fd085fdbba8>"
      ]
     },
     "execution_count": 5,
     "metadata": {},
     "output_type": "execute_result"
    },
    {
     "data": {
      "image/png": "[encoded data removed]",
      "text/plain": [
       "<Figure size 432x288 with 2 Axes>"
      ]
     },
     "metadata": {
      "needs_background": "light"
     },
     "output_type": "display_data"
    }
   ],
   "source": [
    "sns.heatmap(data.corr(method = 'pearson'), cmap='Greens', annot = True, vmin = 0, vmax = 1)"
   ]
  },
  {
   "cell_type": "markdown",
   "metadata": {
    "slideshow": {
     "slide_type": "slide"
    }
   },
   "source": [
    "In the correlation matrix above we find some correlation in columns:\n",
    "1. START_DATE and END_DATE\n",
    "2. START_DATE and ANNUAL_FEES\n",
    "3. START_DATE and MEMBER_OCCUPATION_CD\n",
    "4. MEMBER_ANNUAL_INCOME and ANNUAL_FEES\n",
    "5. END_DATE and ANNUAL_FEES\n",
    "6. MEMBER_OCCUPATION_CD and MEMBER_AGE_AT_ISSUE\n",
    "\n",
    "    "
   ]
  },
  {
   "cell_type": "markdown",
   "metadata": {},
   "source": [
    "We will neglect the correlations with START_DATE and END_DATE because we will remove the columns as the information is already provided by the MEMBERSHIP_STATUS of the club's customers. Hence, we will keep the other correlations into consideration."
   ]
  },
  {
   "cell_type": "code",
   "execution_count": 6,
   "metadata": {},
   "outputs": [
    {
     "data": {
      "text/plain": [
       "(10362, 15)"
      ]
     },
     "execution_count": 6,
     "metadata": {},
     "output_type": "execute_result"
    }
   ],
   "source": [
    "data.shape"
   ]
  },
  {
   "cell_type": "code",
   "execution_count": 7,
   "metadata": {},
   "outputs": [
    {
     "name": "stdout",
     "output_type": "stream",
     "text": [
      "<class 'pandas.core.frame.DataFrame'>\n",
      "RangeIndex: 10362 entries, 0 to 10361\n",
      "Data columns (total 15 columns):\n",
      " #   Column                 Non-Null Count  Dtype  \n",
      "---  ------                 --------------  -----  \n",
      " 0   MEMBERSHIP_NUMBER      10362 non-null  object \n",
      " 1   MEMBERSHIP_TERM_YEARS  10362 non-null  int64  \n",
      " 2   ANNUAL_FEES            10362 non-null  float64\n",
      " 3   MEMBER_MARITAL_STATUS  7765 non-null   object \n",
      " 4   MEMBER_GENDER          9751 non-null   object \n",
      " 5   MEMBER_ANNUAL_INCOME   8608 non-null   float64\n",
      " 6   MEMBER_OCCUPATION_CD   10319 non-null  float64\n",
      " 7   MEMBERSHIP_PACKAGE     10362 non-null  object \n",
      " 8   MEMBER_AGE_AT_ISSUE    10362 non-null  int64  \n",
      " 9   ADDITIONAL_MEMBERS     10362 non-null  int64  \n",
      " 10  PAYMENT_MODE           10362 non-null  object \n",
      " 11  AGENT_CODE             10362 non-null  object \n",
      " 12  MEMBERSHIP_STATUS      10362 non-null  object \n",
      " 13  START_DATE             10362 non-null  int64  \n",
      " 14  END_DATE               3143 non-null   float64\n",
      "dtypes: float64(4), int64(4), object(7)\n",
      "memory usage: 1.2+ MB\n"
     ]
    }
   ],
   "source": [
    "data.info()"
   ]
  },
  {
   "cell_type": "markdown",
   "metadata": {},
   "source": [
    "## Checking Missing Values <a> </a>"
   ]
  },
  {
   "cell_type": "code",
   "execution_count": 8,
   "metadata": {},
   "outputs": [
    {
     "data": {
      "text/plain": [
       "MEMBERSHIP_NUMBER           0\n",
       "MEMBERSHIP_TERM_YEARS       0\n",
       "ANNUAL_FEES                 0\n",
       "MEMBER_MARITAL_STATUS    2597\n",
       "MEMBER_GENDER             611\n",
       "MEMBER_ANNUAL_INCOME     1754\n",
       "MEMBER_OCCUPATION_CD       43\n",
       "MEMBERSHIP_PACKAGE          0\n",
       "MEMBER_AGE_AT_ISSUE         0\n",
       "ADDITIONAL_MEMBERS          0\n",
       "PAYMENT_MODE                0\n",
       "AGENT_CODE                  0\n",
       "MEMBERSHIP_STATUS           0\n",
       "START_DATE                  0\n",
       "END_DATE                 7219\n",
       "dtype: int64"
      ]
     },
     "execution_count": 8,
     "metadata": {},
     "output_type": "execute_result"
    }
   ],
   "source": [
    "data.isna().sum()"
   ]
  },
  {
   "cell_type": "markdown",
   "metadata": {},
   "source": [
    "## Counting Unique Values <a> </a>"
   ]
  },
  {
   "cell_type": "code",
   "execution_count": 9,
   "metadata": {},
   "outputs": [
    {
     "name": "stdout",
     "output_type": "stream",
     "text": [
      "M    6430\n",
      "S    1144\n",
      "W     146\n",
      "D      45\n",
      "Name: MEMBER_MARITAL_STATUS, dtype: int64\n"
     ]
    }
   ],
   "source": [
    "print(data['MEMBER_MARITAL_STATUS'].value_counts())"
   ]
  },
  {
   "cell_type": "code",
   "execution_count": 10,
   "metadata": {},
   "outputs": [
    {
     "name": "stdout",
     "output_type": "stream",
     "text": [
      "M    7330\n",
      "F    2421\n",
      "Name: MEMBER_GENDER, dtype: int64\n"
     ]
    }
   ],
   "source": [
    "print(data['MEMBER_GENDER'].value_counts())"
   ]
  },
  {
   "cell_type": "code",
   "execution_count": 11,
   "metadata": {},
   "outputs": [
    {
     "name": "stdout",
     "output_type": "stream",
     "text": [
      "1.0    7281\n",
      "2.0    1778\n",
      "6.0     728\n",
      "5.0     324\n",
      "4.0     207\n",
      "3.0       1\n",
      "Name: MEMBER_OCCUPATION_CD, dtype: int64\n"
     ]
    }
   ],
   "source": [
    "print(data['MEMBER_OCCUPATION_CD'].value_counts())"
   ]
  },
  {
   "cell_type": "code",
   "execution_count": 12,
   "metadata": {},
   "outputs": [
    {
     "name": "stdout",
     "output_type": "stream",
     "text": [
      "TYPE-B    6809\n",
      "TYPE-A    3553\n",
      "Name: MEMBERSHIP_PACKAGE, dtype: int64\n"
     ]
    }
   ],
   "source": [
    "print(data['MEMBERSHIP_PACKAGE'].value_counts())"
   ]
  },
  {
   "cell_type": "code",
   "execution_count": 13,
   "metadata": {
    "scrolled": false
   },
   "outputs": [
    {
     "name": "stdout",
     "output_type": "stream",
     "text": [
      "47    313\n",
      "43    306\n",
      "40    301\n",
      "46    294\n",
      "41    291\n",
      "     ... \n",
      "92      1\n",
      "5       1\n",
      "14      1\n",
      "16      1\n",
      "90      1\n",
      "Name: MEMBER_AGE_AT_ISSUE, Length: 89, dtype: int64\n"
     ]
    }
   ],
   "source": [
    "print(data['MEMBER_AGE_AT_ISSUE'].value_counts())"
   ]
  },
  {
   "cell_type": "code",
   "execution_count": 14,
   "metadata": {},
   "outputs": [
    {
     "name": "stdout",
     "output_type": "stream",
     "text": [
      "0    3050\n",
      "3    2488\n",
      "1    2478\n",
      "2    2346\n",
      "Name: ADDITIONAL_MEMBERS, dtype: int64\n"
     ]
    }
   ],
   "source": [
    "print(data['ADDITIONAL_MEMBERS'].value_counts())"
   ]
  },
  {
   "cell_type": "code",
   "execution_count": 15,
   "metadata": {},
   "outputs": [
    {
     "name": "stdout",
     "output_type": "stream",
     "text": [
      "ANNUAL            6589\n",
      "MONTHLY           1881\n",
      "SEMI-ANNUAL       1493\n",
      "QUARTERLY          390\n",
      "SINGLE-PREMIUM       9\n",
      "Name: PAYMENT_MODE, dtype: int64\n"
     ]
    }
   ],
   "source": [
    "print(data['PAYMENT_MODE'].value_counts())"
   ]
  },
  {
   "cell_type": "code",
   "execution_count": 16,
   "metadata": {},
   "outputs": [
    {
     "name": "stdout",
     "output_type": "stream",
     "text": [
      "343344     612\n",
      "348355     118\n",
      "343477      95\n",
      "343466      63\n",
      "309877      63\n",
      "          ... \n",
      "348711       1\n",
      "144355       1\n",
      "229911       1\n",
      "271922       1\n",
      "1449688      1\n",
      "Name: AGENT_CODE, Length: 4317, dtype: int64\n"
     ]
    }
   ],
   "source": [
    "print(data['AGENT_CODE'].value_counts())"
   ]
  },
  {
   "cell_type": "code",
   "execution_count": 17,
   "metadata": {
    "scrolled": true
   },
   "outputs": [
    {
     "name": "stdout",
     "output_type": "stream",
     "text": [
      "INFORCE      7219\n",
      "CANCELLED    3143\n",
      "Name: MEMBERSHIP_STATUS, dtype: int64\n"
     ]
    }
   ],
   "source": [
    "print(data['MEMBERSHIP_STATUS'].value_counts())"
   ]
  },
  {
   "cell_type": "markdown",
   "metadata": {},
   "source": [
    "# Data Cleaning <a> </a>"
   ]
  },
  {
   "cell_type": "code",
   "execution_count": 18,
   "metadata": {},
   "outputs": [],
   "source": [
    "data['END_DATE'] = data['END_DATE'].fillna(-1)\n",
    "data['END_DATE'] = data['END_DATE'].astype(int)\n",
    "data['START_DATE'] = data['START_DATE'].astype(str)\n",
    "data['END_DATE'] = data['END_DATE'].astype(str)\n",
    "data['END_DATE'] = data['END_DATE'].replace('-1', np.nan)"
   ]
  },
  {
   "cell_type": "code",
   "execution_count": 19,
   "metadata": {},
   "outputs": [],
   "source": [
    "from datetime import datetime\n",
    "data['END_DATE'] = pd.to_datetime(data['END_DATE'], format='%Y%m%d')\n",
    "data['START_DATE'] = pd.to_datetime(data['START_DATE'], format='%Y%m%d')\n",
    "\n",
    "data['START_DATE'] = data['START_DATE'].astype(str)"
   ]
  },
  {
   "cell_type": "code",
   "execution_count": 20,
   "metadata": {},
   "outputs": [
    {
     "data": {
      "text/html": [
       "<div>\n",
       "<style>\n",
       "    .dataframe tbody tr th:only-of-type {\n",
       "        vertical-align: middle;\n",
       "    }\n",
       "\n",
       "    .dataframe tbody tr th {\n",
       "        vertical-align: top;\n",
       "    }\n",
       "\n",
       "    .dataframe thead th {\n",
       "        text-align: right;\n",
       "    }\n",
       "</style>\n",
       "<table class=\"dataframe\">\n",
       "  <thead>\n",
       "    <tr style=\"text-align: right;\">\n",
       "      <th></th>\n",
       "      <th>MEMBERSHIP_NUMBER</th>\n",
       "      <th>MEMBERSHIP_TERM_YEARS</th>\n",
       "      <th>ANNUAL_FEES</th>\n",
       "      <th>MEMBER_MARITAL_STATUS</th>\n",
       "      <th>MEMBER_GENDER</th>\n",
       "      <th>MEMBER_ANNUAL_INCOME</th>\n",
       "      <th>MEMBER_OCCUPATION_CD</th>\n",
       "      <th>MEMBERSHIP_PACKAGE</th>\n",
       "      <th>MEMBER_AGE_AT_ISSUE</th>\n",
       "      <th>ADDITIONAL_MEMBERS</th>\n",
       "      <th>PAYMENT_MODE</th>\n",
       "      <th>AGENT_CODE</th>\n",
       "      <th>MEMBERSHIP_STATUS</th>\n",
       "      <th>START_DATE</th>\n",
       "      <th>END_DATE</th>\n",
       "    </tr>\n",
       "  </thead>\n",
       "  <tbody>\n",
       "    <tr>\n",
       "      <th>0</th>\n",
       "      <td>A00001</td>\n",
       "      <td>29</td>\n",
       "      <td>113125.0</td>\n",
       "      <td>M</td>\n",
       "      <td>M</td>\n",
       "      <td>25200000.0</td>\n",
       "      <td>1.0</td>\n",
       "      <td>TYPE-B</td>\n",
       "      <td>45</td>\n",
       "      <td>2</td>\n",
       "      <td>ANNUAL</td>\n",
       "      <td>477</td>\n",
       "      <td>INFORCE</td>\n",
       "      <td>2006-09-14</td>\n",
       "      <td>NaT</td>\n",
       "    </tr>\n",
       "    <tr>\n",
       "      <th>1</th>\n",
       "      <td>A00002</td>\n",
       "      <td>38</td>\n",
       "      <td>112220.0</td>\n",
       "      <td>M</td>\n",
       "      <td>M</td>\n",
       "      <td>10339200.0</td>\n",
       "      <td>1.0</td>\n",
       "      <td>TYPE-B</td>\n",
       "      <td>36</td>\n",
       "      <td>3</td>\n",
       "      <td>QUARTERLY</td>\n",
       "      <td>255</td>\n",
       "      <td>INFORCE</td>\n",
       "      <td>2006-11-02</td>\n",
       "      <td>NaT</td>\n",
       "    </tr>\n",
       "    <tr>\n",
       "      <th>2</th>\n",
       "      <td>A00003</td>\n",
       "      <td>12</td>\n",
       "      <td>100000.0</td>\n",
       "      <td>M</td>\n",
       "      <td>M</td>\n",
       "      <td>14400000.0</td>\n",
       "      <td>1.0</td>\n",
       "      <td>TYPE-B</td>\n",
       "      <td>42</td>\n",
       "      <td>1</td>\n",
       "      <td>ANNUAL</td>\n",
       "      <td>7866</td>\n",
       "      <td>INFORCE</td>\n",
       "      <td>2007-01-24</td>\n",
       "      <td>NaT</td>\n",
       "    </tr>\n",
       "    <tr>\n",
       "      <th>3</th>\n",
       "      <td>A00004</td>\n",
       "      <td>12</td>\n",
       "      <td>100000.0</td>\n",
       "      <td>M</td>\n",
       "      <td>M</td>\n",
       "      <td>9000000.0</td>\n",
       "      <td>1.0</td>\n",
       "      <td>TYPE-B</td>\n",
       "      <td>39</td>\n",
       "      <td>2</td>\n",
       "      <td>ANNUAL</td>\n",
       "      <td>200533</td>\n",
       "      <td>INFORCE</td>\n",
       "      <td>2007-01-22</td>\n",
       "      <td>NaT</td>\n",
       "    </tr>\n",
       "    <tr>\n",
       "      <th>4</th>\n",
       "      <td>A00005</td>\n",
       "      <td>46</td>\n",
       "      <td>100000.0</td>\n",
       "      <td>M</td>\n",
       "      <td>M</td>\n",
       "      <td>4800000.0</td>\n",
       "      <td>1.0</td>\n",
       "      <td>TYPE-B</td>\n",
       "      <td>27</td>\n",
       "      <td>2</td>\n",
       "      <td>QUARTERLY</td>\n",
       "      <td>6988</td>\n",
       "      <td>INFORCE</td>\n",
       "      <td>2007-01-31</td>\n",
       "      <td>NaT</td>\n",
       "    </tr>\n",
       "    <tr>\n",
       "      <th>5</th>\n",
       "      <td>A00006</td>\n",
       "      <td>12</td>\n",
       "      <td>110000.0</td>\n",
       "      <td>NaN</td>\n",
       "      <td>NaN</td>\n",
       "      <td>NaN</td>\n",
       "      <td>1.0</td>\n",
       "      <td>TYPE-B</td>\n",
       "      <td>48</td>\n",
       "      <td>3</td>\n",
       "      <td>ANNUAL</td>\n",
       "      <td>5311</td>\n",
       "      <td>INFORCE</td>\n",
       "      <td>2007-02-15</td>\n",
       "      <td>NaT</td>\n",
       "    </tr>\n",
       "    <tr>\n",
       "      <th>6</th>\n",
       "      <td>A00007</td>\n",
       "      <td>36</td>\n",
       "      <td>100000.0</td>\n",
       "      <td>M</td>\n",
       "      <td>M</td>\n",
       "      <td>24000000.0</td>\n",
       "      <td>1.0</td>\n",
       "      <td>TYPE-B</td>\n",
       "      <td>39</td>\n",
       "      <td>2</td>\n",
       "      <td>ANNUAL</td>\n",
       "      <td>4055</td>\n",
       "      <td>INFORCE</td>\n",
       "      <td>2007-02-21</td>\n",
       "      <td>NaT</td>\n",
       "    </tr>\n",
       "    <tr>\n",
       "      <th>7</th>\n",
       "      <td>A00008</td>\n",
       "      <td>12</td>\n",
       "      <td>120000.0</td>\n",
       "      <td>M</td>\n",
       "      <td>M</td>\n",
       "      <td>3600000.0</td>\n",
       "      <td>1.0</td>\n",
       "      <td>TYPE-B</td>\n",
       "      <td>28</td>\n",
       "      <td>1</td>\n",
       "      <td>QUARTERLY</td>\n",
       "      <td>13100</td>\n",
       "      <td>CANCELLED</td>\n",
       "      <td>2007-03-12</td>\n",
       "      <td>2009-08-11</td>\n",
       "    </tr>\n",
       "    <tr>\n",
       "      <th>8</th>\n",
       "      <td>A00009</td>\n",
       "      <td>35</td>\n",
       "      <td>120000.0</td>\n",
       "      <td>NaN</td>\n",
       "      <td>NaN</td>\n",
       "      <td>NaN</td>\n",
       "      <td>1.0</td>\n",
       "      <td>TYPE-B</td>\n",
       "      <td>35</td>\n",
       "      <td>2</td>\n",
       "      <td>MONTHLY</td>\n",
       "      <td>4522</td>\n",
       "      <td>INFORCE</td>\n",
       "      <td>2007-03-16</td>\n",
       "      <td>NaT</td>\n",
       "    </tr>\n",
       "    <tr>\n",
       "      <th>9</th>\n",
       "      <td>A00010</td>\n",
       "      <td>33</td>\n",
       "      <td>102700.0</td>\n",
       "      <td>M</td>\n",
       "      <td>M</td>\n",
       "      <td>14400000.0</td>\n",
       "      <td>1.0</td>\n",
       "      <td>TYPE-B</td>\n",
       "      <td>42</td>\n",
       "      <td>2</td>\n",
       "      <td>SEMI-ANNUAL</td>\n",
       "      <td>11266</td>\n",
       "      <td>INFORCE</td>\n",
       "      <td>2007-03-30</td>\n",
       "      <td>NaT</td>\n",
       "    </tr>\n",
       "  </tbody>\n",
       "</table>\n",
       "</div>"
      ],
      "text/plain": [
       "  MEMBERSHIP_NUMBER  MEMBERSHIP_TERM_YEARS  ANNUAL_FEES MEMBER_MARITAL_STATUS  \\\n",
       "0            A00001                     29     113125.0                     M   \n",
       "1            A00002                     38     112220.0                     M   \n",
       "2            A00003                     12     100000.0                     M   \n",
       "3            A00004                     12     100000.0                     M   \n",
       "4            A00005                     46     100000.0                     M   \n",
       "5            A00006                     12     110000.0                   NaN   \n",
       "6            A00007                     36     100000.0                     M   \n",
       "7            A00008                     12     120000.0                     M   \n",
       "8            A00009                     35     120000.0                   NaN   \n",
       "9            A00010                     33     102700.0                     M   \n",
       "\n",
       "  MEMBER_GENDER  MEMBER_ANNUAL_INCOME  MEMBER_OCCUPATION_CD  \\\n",
       "0             M            25200000.0                   1.0   \n",
       "1             M            10339200.0                   1.0   \n",
       "2             M            14400000.0                   1.0   \n",
       "3             M             9000000.0                   1.0   \n",
       "4             M             4800000.0                   1.0   \n",
       "5           NaN                   NaN                   1.0   \n",
       "6             M            24000000.0                   1.0   \n",
       "7             M             3600000.0                   1.0   \n",
       "8           NaN                   NaN                   1.0   \n",
       "9             M            14400000.0                   1.0   \n",
       "\n",
       "  MEMBERSHIP_PACKAGE  MEMBER_AGE_AT_ISSUE  ADDITIONAL_MEMBERS PAYMENT_MODE  \\\n",
       "0             TYPE-B                   45                   2       ANNUAL   \n",
       "1             TYPE-B                   36                   3    QUARTERLY   \n",
       "2             TYPE-B                   42                   1       ANNUAL   \n",
       "3             TYPE-B                   39                   2       ANNUAL   \n",
       "4             TYPE-B                   27                   2    QUARTERLY   \n",
       "5             TYPE-B                   48                   3       ANNUAL   \n",
       "6             TYPE-B                   39                   2       ANNUAL   \n",
       "7             TYPE-B                   28                   1    QUARTERLY   \n",
       "8             TYPE-B                   35                   2      MONTHLY   \n",
       "9             TYPE-B                   42                   2  SEMI-ANNUAL   \n",
       "\n",
       "  AGENT_CODE MEMBERSHIP_STATUS  START_DATE   END_DATE  \n",
       "0        477           INFORCE  2006-09-14        NaT  \n",
       "1        255           INFORCE  2006-11-02        NaT  \n",
       "2       7866           INFORCE  2007-01-24        NaT  \n",
       "3     200533           INFORCE  2007-01-22        NaT  \n",
       "4       6988           INFORCE  2007-01-31        NaT  \n",
       "5       5311           INFORCE  2007-02-15        NaT  \n",
       "6       4055           INFORCE  2007-02-21        NaT  \n",
       "7      13100         CANCELLED  2007-03-12 2009-08-11  \n",
       "8       4522           INFORCE  2007-03-16        NaT  \n",
       "9      11266           INFORCE  2007-03-30        NaT  "
      ]
     },
     "execution_count": 20,
     "metadata": {},
     "output_type": "execute_result"
    }
   ],
   "source": [
    "data.head(10)"
   ]
  },
  {
   "cell_type": "code",
   "execution_count": 21,
   "metadata": {},
   "outputs": [],
   "source": [
    "# import matplotlib.pyplot as plt\n",
    "# plt.boxplot(data3['MEMBER_ANNUAL_INCOME'])\n",
    "# plt.show()"
   ]
  },
  {
   "cell_type": "markdown",
   "metadata": {},
   "source": [
    "&gt; ***We have 7219 members who are having their membership still in place, hence the end date for such members is not listed. Therefore, we would replace the missing values (which are not considered missing) in the `END_DATE` column with \"1\"***"
   ]
  },
  {
   "cell_type": "code",
   "execution_count": 22,
   "metadata": {},
   "outputs": [],
   "source": [
    "data['END_DATE'] = data['END_DATE'].replace({np.nan:1})"
   ]
  },
  {
   "cell_type": "markdown",
   "metadata": {},
   "source": [
    "&gt; ***We hold missing values in columns: `MEMBER_MARITAL_STATUS`, `MEMBER_GENDER`, `MEMBER_ANNUAL_INCOME` and `MEMBER_OCCUPATION_CD`***\n",
    "\n",
    "We cannot deal with the missing values in the `MEMBER_ANNUAL_INCOME` as imputing them would be a wrong approach as it might induce biasness."
   ]
  },
  {
   "cell_type": "markdown",
   "metadata": {},
   "source": [
    "### Dropping Rows with missing values <a> </a>"
   ]
  },
  {
   "cell_type": "code",
   "execution_count": 23,
   "metadata": {},
   "outputs": [],
   "source": [
    "data1 = data.dropna()"
   ]
  },
  {
   "cell_type": "code",
   "execution_count": 24,
   "metadata": {},
   "outputs": [
    {
     "data": {
      "text/html": [
       "<div>\n",
       "<style>\n",
       "    .dataframe tbody tr th:only-of-type {\n",
       "        vertical-align: middle;\n",
       "    }\n",
       "\n",
       "    .dataframe tbody tr th {\n",
       "        vertical-align: top;\n",
       "    }\n",
       "\n",
       "    .dataframe thead th {\n",
       "        text-align: right;\n",
       "    }\n",
       "</style>\n",
       "<table class=\"dataframe\">\n",
       "  <thead>\n",
       "    <tr style=\"text-align: right;\">\n",
       "      <th></th>\n",
       "      <th>MEMBERSHIP_NUMBER</th>\n",
       "      <th>MEMBERSHIP_TERM_YEARS</th>\n",
       "      <th>ANNUAL_FEES</th>\n",
       "      <th>MEMBER_MARITAL_STATUS</th>\n",
       "      <th>MEMBER_GENDER</th>\n",
       "      <th>MEMBER_ANNUAL_INCOME</th>\n",
       "      <th>MEMBER_OCCUPATION_CD</th>\n",
       "      <th>MEMBERSHIP_PACKAGE</th>\n",
       "      <th>MEMBER_AGE_AT_ISSUE</th>\n",
       "      <th>ADDITIONAL_MEMBERS</th>\n",
       "      <th>PAYMENT_MODE</th>\n",
       "      <th>AGENT_CODE</th>\n",
       "      <th>MEMBERSHIP_STATUS</th>\n",
       "      <th>START_DATE</th>\n",
       "      <th>END_DATE</th>\n",
       "    </tr>\n",
       "  </thead>\n",
       "  <tbody>\n",
       "    <tr>\n",
       "      <th>0</th>\n",
       "      <td>A00001</td>\n",
       "      <td>29</td>\n",
       "      <td>113125.0</td>\n",
       "      <td>M</td>\n",
       "      <td>M</td>\n",
       "      <td>25200000.0</td>\n",
       "      <td>1.0</td>\n",
       "      <td>TYPE-B</td>\n",
       "      <td>45</td>\n",
       "      <td>2</td>\n",
       "      <td>ANNUAL</td>\n",
       "      <td>477</td>\n",
       "      <td>INFORCE</td>\n",
       "      <td>2006-09-14</td>\n",
       "      <td>1</td>\n",
       "    </tr>\n",
       "    <tr>\n",
       "      <th>1</th>\n",
       "      <td>A00002</td>\n",
       "      <td>38</td>\n",
       "      <td>112220.0</td>\n",
       "      <td>M</td>\n",
       "      <td>M</td>\n",
       "      <td>10339200.0</td>\n",
       "      <td>1.0</td>\n",
       "      <td>TYPE-B</td>\n",
       "      <td>36</td>\n",
       "      <td>3</td>\n",
       "      <td>QUARTERLY</td>\n",
       "      <td>255</td>\n",
       "      <td>INFORCE</td>\n",
       "      <td>2006-11-02</td>\n",
       "      <td>1</td>\n",
       "    </tr>\n",
       "    <tr>\n",
       "      <th>2</th>\n",
       "      <td>A00003</td>\n",
       "      <td>12</td>\n",
       "      <td>100000.0</td>\n",
       "      <td>M</td>\n",
       "      <td>M</td>\n",
       "      <td>14400000.0</td>\n",
       "      <td>1.0</td>\n",
       "      <td>TYPE-B</td>\n",
       "      <td>42</td>\n",
       "      <td>1</td>\n",
       "      <td>ANNUAL</td>\n",
       "      <td>7866</td>\n",
       "      <td>INFORCE</td>\n",
       "      <td>2007-01-24</td>\n",
       "      <td>1</td>\n",
       "    </tr>\n",
       "    <tr>\n",
       "      <th>3</th>\n",
       "      <td>A00004</td>\n",
       "      <td>12</td>\n",
       "      <td>100000.0</td>\n",
       "      <td>M</td>\n",
       "      <td>M</td>\n",
       "      <td>9000000.0</td>\n",
       "      <td>1.0</td>\n",
       "      <td>TYPE-B</td>\n",
       "      <td>39</td>\n",
       "      <td>2</td>\n",
       "      <td>ANNUAL</td>\n",
       "      <td>200533</td>\n",
       "      <td>INFORCE</td>\n",
       "      <td>2007-01-22</td>\n",
       "      <td>1</td>\n",
       "    </tr>\n",
       "    <tr>\n",
       "      <th>4</th>\n",
       "      <td>A00005</td>\n",
       "      <td>46</td>\n",
       "      <td>100000.0</td>\n",
       "      <td>M</td>\n",
       "      <td>M</td>\n",
       "      <td>4800000.0</td>\n",
       "      <td>1.0</td>\n",
       "      <td>TYPE-B</td>\n",
       "      <td>27</td>\n",
       "      <td>2</td>\n",
       "      <td>QUARTERLY</td>\n",
       "      <td>6988</td>\n",
       "      <td>INFORCE</td>\n",
       "      <td>2007-01-31</td>\n",
       "      <td>1</td>\n",
       "    </tr>\n",
       "    <tr>\n",
       "      <th>6</th>\n",
       "      <td>A00007</td>\n",
       "      <td>36</td>\n",
       "      <td>100000.0</td>\n",
       "      <td>M</td>\n",
       "      <td>M</td>\n",
       "      <td>24000000.0</td>\n",
       "      <td>1.0</td>\n",
       "      <td>TYPE-B</td>\n",
       "      <td>39</td>\n",
       "      <td>2</td>\n",
       "      <td>ANNUAL</td>\n",
       "      <td>4055</td>\n",
       "      <td>INFORCE</td>\n",
       "      <td>2007-02-21</td>\n",
       "      <td>1</td>\n",
       "    </tr>\n",
       "    <tr>\n",
       "      <th>7</th>\n",
       "      <td>A00008</td>\n",
       "      <td>12</td>\n",
       "      <td>120000.0</td>\n",
       "      <td>M</td>\n",
       "      <td>M</td>\n",
       "      <td>3600000.0</td>\n",
       "      <td>1.0</td>\n",
       "      <td>TYPE-B</td>\n",
       "      <td>28</td>\n",
       "      <td>1</td>\n",
       "      <td>QUARTERLY</td>\n",
       "      <td>13100</td>\n",
       "      <td>CANCELLED</td>\n",
       "      <td>2007-03-12</td>\n",
       "      <td>2009-08-11 00:00:00</td>\n",
       "    </tr>\n",
       "    <tr>\n",
       "      <th>9</th>\n",
       "      <td>A00010</td>\n",
       "      <td>33</td>\n",
       "      <td>102700.0</td>\n",
       "      <td>M</td>\n",
       "      <td>M</td>\n",
       "      <td>14400000.0</td>\n",
       "      <td>1.0</td>\n",
       "      <td>TYPE-B</td>\n",
       "      <td>42</td>\n",
       "      <td>2</td>\n",
       "      <td>SEMI-ANNUAL</td>\n",
       "      <td>11266</td>\n",
       "      <td>INFORCE</td>\n",
       "      <td>2007-03-30</td>\n",
       "      <td>1</td>\n",
       "    </tr>\n",
       "    <tr>\n",
       "      <th>10</th>\n",
       "      <td>A00011</td>\n",
       "      <td>12</td>\n",
       "      <td>1000000.0</td>\n",
       "      <td>M</td>\n",
       "      <td>M</td>\n",
       "      <td>5047008.0</td>\n",
       "      <td>1.0</td>\n",
       "      <td>TYPE-B</td>\n",
       "      <td>38</td>\n",
       "      <td>3</td>\n",
       "      <td>ANNUAL</td>\n",
       "      <td>11933</td>\n",
       "      <td>INFORCE</td>\n",
       "      <td>2007-03-30</td>\n",
       "      <td>1</td>\n",
       "    </tr>\n",
       "    <tr>\n",
       "      <th>11</th>\n",
       "      <td>A00012</td>\n",
       "      <td>39</td>\n",
       "      <td>100000.0</td>\n",
       "      <td>M</td>\n",
       "      <td>M</td>\n",
       "      <td>3600000.0</td>\n",
       "      <td>1.0</td>\n",
       "      <td>TYPE-B</td>\n",
       "      <td>35</td>\n",
       "      <td>3</td>\n",
       "      <td>ANNUAL</td>\n",
       "      <td>9499</td>\n",
       "      <td>INFORCE</td>\n",
       "      <td>2007-03-30</td>\n",
       "      <td>1</td>\n",
       "    </tr>\n",
       "  </tbody>\n",
       "</table>\n",
       "</div>"
      ],
      "text/plain": [
       "   MEMBERSHIP_NUMBER  MEMBERSHIP_TERM_YEARS  ANNUAL_FEES  \\\n",
       "0             A00001                     29     113125.0   \n",
       "1             A00002                     38     112220.0   \n",
       "2             A00003                     12     100000.0   \n",
       "3             A00004                     12     100000.0   \n",
       "4             A00005                     46     100000.0   \n",
       "6             A00007                     36     100000.0   \n",
       "7             A00008                     12     120000.0   \n",
       "9             A00010                     33     102700.0   \n",
       "10            A00011                     12    1000000.0   \n",
       "11            A00012                     39     100000.0   \n",
       "\n",
       "   MEMBER_MARITAL_STATUS MEMBER_GENDER  MEMBER_ANNUAL_INCOME  \\\n",
       "0                      M             M            25200000.0   \n",
       "1                      M             M            10339200.0   \n",
       "2                      M             M            14400000.0   \n",
       "3                      M             M             9000000.0   \n",
       "4                      M             M             4800000.0   \n",
       "6                      M             M            24000000.0   \n",
       "7                      M             M             3600000.0   \n",
       "9                      M             M            14400000.0   \n",
       "10                     M             M             5047008.0   \n",
       "11                     M             M             3600000.0   \n",
       "\n",
       "    MEMBER_OCCUPATION_CD MEMBERSHIP_PACKAGE  MEMBER_AGE_AT_ISSUE  \\\n",
       "0                    1.0             TYPE-B                   45   \n",
       "1                    1.0             TYPE-B                   36   \n",
       "2                    1.0             TYPE-B                   42   \n",
       "3                    1.0             TYPE-B                   39   \n",
       "4                    1.0             TYPE-B                   27   \n",
       "6                    1.0             TYPE-B                   39   \n",
       "7                    1.0             TYPE-B                   28   \n",
       "9                    1.0             TYPE-B                   42   \n",
       "10                   1.0             TYPE-B                   38   \n",
       "11                   1.0             TYPE-B                   35   \n",
       "\n",
       "    ADDITIONAL_MEMBERS PAYMENT_MODE AGENT_CODE MEMBERSHIP_STATUS  START_DATE  \\\n",
       "0                    2       ANNUAL        477           INFORCE  2006-09-14   \n",
       "1                    3    QUARTERLY        255           INFORCE  2006-11-02   \n",
       "2                    1       ANNUAL       7866           INFORCE  2007-01-24   \n",
       "3                    2       ANNUAL     200533           INFORCE  2007-01-22   \n",
       "4                    2    QUARTERLY       6988           INFORCE  2007-01-31   \n",
       "6                    2       ANNUAL       4055           INFORCE  2007-02-21   \n",
       "7                    1    QUARTERLY      13100         CANCELLED  2007-03-12   \n",
       "9                    2  SEMI-ANNUAL      11266           INFORCE  2007-03-30   \n",
       "10                   3       ANNUAL      11933           INFORCE  2007-03-30   \n",
       "11                   3       ANNUAL       9499           INFORCE  2007-03-30   \n",
       "\n",
       "               END_DATE  \n",
       "0                     1  \n",
       "1                     1  \n",
       "2                     1  \n",
       "3                     1  \n",
       "4                     1  \n",
       "6                     1  \n",
       "7   2009-08-11 00:00:00  \n",
       "9                     1  \n",
       "10                    1  \n",
       "11                    1  "
      ]
     },
     "execution_count": 24,
     "metadata": {},
     "output_type": "execute_result"
    }
   ],
   "source": [
    "data1.head(10)"
   ]
  },
  {
   "cell_type": "code",
   "execution_count": 25,
   "metadata": {},
   "outputs": [
    {
     "name": "stdout",
     "output_type": "stream",
     "text": [
      "<class 'pandas.core.frame.DataFrame'>\n",
      "Int64Index: 7275 entries, 0 to 10361\n",
      "Data columns (total 15 columns):\n",
      " #   Column                 Non-Null Count  Dtype  \n",
      "---  ------                 --------------  -----  \n",
      " 0   MEMBERSHIP_NUMBER      7275 non-null   object \n",
      " 1   MEMBERSHIP_TERM_YEARS  7275 non-null   int64  \n",
      " 2   ANNUAL_FEES            7275 non-null   float64\n",
      " 3   MEMBER_MARITAL_STATUS  7275 non-null   object \n",
      " 4   MEMBER_GENDER          7275 non-null   object \n",
      " 5   MEMBER_ANNUAL_INCOME   7275 non-null   float64\n",
      " 6   MEMBER_OCCUPATION_CD   7275 non-null   float64\n",
      " 7   MEMBERSHIP_PACKAGE     7275 non-null   object \n",
      " 8   MEMBER_AGE_AT_ISSUE    7275 non-null   int64  \n",
      " 9   ADDITIONAL_MEMBERS     7275 non-null   int64  \n",
      " 10  PAYMENT_MODE           7275 non-null   object \n",
      " 11  AGENT_CODE             7275 non-null   object \n",
      " 12  MEMBERSHIP_STATUS      7275 non-null   object \n",
      " 13  START_DATE             7275 non-null   object \n",
      " 14  END_DATE               7275 non-null   object \n",
      "dtypes: float64(3), int64(3), object(9)\n",
      "memory usage: 909.4+ KB\n"
     ]
    }
   ],
   "source": [
    "data1.info()"
   ]
  },
  {
   "cell_type": "markdown",
   "metadata": {},
   "source": [
    "We removed the missing values because imputing them might make our data biased. Therefore, we have 7275 instances left after dropping missing values. "
   ]
  },
  {
   "cell_type": "code",
   "execution_count": 26,
   "metadata": {},
   "outputs": [
    {
     "name": "stdout",
     "output_type": "stream",
     "text": [
      "A05982    1\n",
      "A00977    1\n",
      "A07152    1\n",
      "A01079    1\n",
      "A08094    1\n",
      "         ..\n",
      "A10129    1\n",
      "A04964    1\n",
      "A02172    1\n",
      "A02539    1\n",
      "A09093    1\n",
      "Name: MEMBERSHIP_NUMBER, Length: 7275, dtype: int64\n"
     ]
    }
   ],
   "source": [
    "print(data1['MEMBERSHIP_NUMBER'].value_counts())"
   ]
  },
  {
   "cell_type": "markdown",
   "metadata": {},
   "source": [
    "We have Membership_Number which have constant features (that have only one unique value). Such features are also irrelevant for machine learning, so they need to be removed as follows."
   ]
  },
  {
   "cell_type": "code",
   "execution_count": 27,
   "metadata": {},
   "outputs": [],
   "source": [
    "del data1['MEMBERSHIP_NUMBER']"
   ]
  },
  {
   "cell_type": "code",
   "execution_count": 28,
   "metadata": {},
   "outputs": [
    {
     "data": {
      "text/html": [
       "<div>\n",
       "<style>\n",
       "    .dataframe tbody tr th:only-of-type {\n",
       "        vertical-align: middle;\n",
       "    }\n",
       "\n",
       "    .dataframe tbody tr th {\n",
       "        vertical-align: top;\n",
       "    }\n",
       "\n",
       "    .dataframe thead th {\n",
       "        text-align: right;\n",
       "    }\n",
       "</style>\n",
       "<table class=\"dataframe\">\n",
       "  <thead>\n",
       "    <tr style=\"text-align: right;\">\n",
       "      <th></th>\n",
       "      <th>MEMBERSHIP_TERM_YEARS</th>\n",
       "      <th>ANNUAL_FEES</th>\n",
       "      <th>MEMBER_MARITAL_STATUS</th>\n",
       "      <th>MEMBER_GENDER</th>\n",
       "      <th>MEMBER_ANNUAL_INCOME</th>\n",
       "      <th>MEMBER_OCCUPATION_CD</th>\n",
       "      <th>MEMBERSHIP_PACKAGE</th>\n",
       "      <th>MEMBER_AGE_AT_ISSUE</th>\n",
       "      <th>ADDITIONAL_MEMBERS</th>\n",
       "      <th>PAYMENT_MODE</th>\n",
       "      <th>AGENT_CODE</th>\n",
       "      <th>MEMBERSHIP_STATUS</th>\n",
       "      <th>START_DATE</th>\n",
       "      <th>END_DATE</th>\n",
       "    </tr>\n",
       "  </thead>\n",
       "  <tbody>\n",
       "    <tr>\n",
       "      <th>0</th>\n",
       "      <td>29</td>\n",
       "      <td>113125.0</td>\n",
       "      <td>M</td>\n",
       "      <td>M</td>\n",
       "      <td>25200000.0</td>\n",
       "      <td>1.0</td>\n",
       "      <td>TYPE-B</td>\n",
       "      <td>45</td>\n",
       "      <td>2</td>\n",
       "      <td>ANNUAL</td>\n",
       "      <td>477</td>\n",
       "      <td>INFORCE</td>\n",
       "      <td>2006-09-14</td>\n",
       "      <td>1</td>\n",
       "    </tr>\n",
       "    <tr>\n",
       "      <th>1</th>\n",
       "      <td>38</td>\n",
       "      <td>112220.0</td>\n",
       "      <td>M</td>\n",
       "      <td>M</td>\n",
       "      <td>10339200.0</td>\n",
       "      <td>1.0</td>\n",
       "      <td>TYPE-B</td>\n",
       "      <td>36</td>\n",
       "      <td>3</td>\n",
       "      <td>QUARTERLY</td>\n",
       "      <td>255</td>\n",
       "      <td>INFORCE</td>\n",
       "      <td>2006-11-02</td>\n",
       "      <td>1</td>\n",
       "    </tr>\n",
       "    <tr>\n",
       "      <th>2</th>\n",
       "      <td>12</td>\n",
       "      <td>100000.0</td>\n",
       "      <td>M</td>\n",
       "      <td>M</td>\n",
       "      <td>14400000.0</td>\n",
       "      <td>1.0</td>\n",
       "      <td>TYPE-B</td>\n",
       "      <td>42</td>\n",
       "      <td>1</td>\n",
       "      <td>ANNUAL</td>\n",
       "      <td>7866</td>\n",
       "      <td>INFORCE</td>\n",
       "      <td>2007-01-24</td>\n",
       "      <td>1</td>\n",
       "    </tr>\n",
       "    <tr>\n",
       "      <th>3</th>\n",
       "      <td>12</td>\n",
       "      <td>100000.0</td>\n",
       "      <td>M</td>\n",
       "      <td>M</td>\n",
       "      <td>9000000.0</td>\n",
       "      <td>1.0</td>\n",
       "      <td>TYPE-B</td>\n",
       "      <td>39</td>\n",
       "      <td>2</td>\n",
       "      <td>ANNUAL</td>\n",
       "      <td>200533</td>\n",
       "      <td>INFORCE</td>\n",
       "      <td>2007-01-22</td>\n",
       "      <td>1</td>\n",
       "    </tr>\n",
       "    <tr>\n",
       "      <th>4</th>\n",
       "      <td>46</td>\n",
       "      <td>100000.0</td>\n",
       "      <td>M</td>\n",
       "      <td>M</td>\n",
       "      <td>4800000.0</td>\n",
       "      <td>1.0</td>\n",
       "      <td>TYPE-B</td>\n",
       "      <td>27</td>\n",
       "      <td>2</td>\n",
       "      <td>QUARTERLY</td>\n",
       "      <td>6988</td>\n",
       "      <td>INFORCE</td>\n",
       "      <td>2007-01-31</td>\n",
       "      <td>1</td>\n",
       "    </tr>\n",
       "    <tr>\n",
       "      <th>6</th>\n",
       "      <td>36</td>\n",
       "      <td>100000.0</td>\n",
       "      <td>M</td>\n",
       "      <td>M</td>\n",
       "      <td>24000000.0</td>\n",
       "      <td>1.0</td>\n",
       "      <td>TYPE-B</td>\n",
       "      <td>39</td>\n",
       "      <td>2</td>\n",
       "      <td>ANNUAL</td>\n",
       "      <td>4055</td>\n",
       "      <td>INFORCE</td>\n",
       "      <td>2007-02-21</td>\n",
       "      <td>1</td>\n",
       "    </tr>\n",
       "    <tr>\n",
       "      <th>7</th>\n",
       "      <td>12</td>\n",
       "      <td>120000.0</td>\n",
       "      <td>M</td>\n",
       "      <td>M</td>\n",
       "      <td>3600000.0</td>\n",
       "      <td>1.0</td>\n",
       "      <td>TYPE-B</td>\n",
       "      <td>28</td>\n",
       "      <td>1</td>\n",
       "      <td>QUARTERLY</td>\n",
       "      <td>13100</td>\n",
       "      <td>CANCELLED</td>\n",
       "      <td>2007-03-12</td>\n",
       "      <td>2009-08-11 00:00:00</td>\n",
       "    </tr>\n",
       "    <tr>\n",
       "      <th>9</th>\n",
       "      <td>33</td>\n",
       "      <td>102700.0</td>\n",
       "      <td>M</td>\n",
       "      <td>M</td>\n",
       "      <td>14400000.0</td>\n",
       "      <td>1.0</td>\n",
       "      <td>TYPE-B</td>\n",
       "      <td>42</td>\n",
       "      <td>2</td>\n",
       "      <td>SEMI-ANNUAL</td>\n",
       "      <td>11266</td>\n",
       "      <td>INFORCE</td>\n",
       "      <td>2007-03-30</td>\n",
       "      <td>1</td>\n",
       "    </tr>\n",
       "    <tr>\n",
       "      <th>10</th>\n",
       "      <td>12</td>\n",
       "      <td>1000000.0</td>\n",
       "      <td>M</td>\n",
       "      <td>M</td>\n",
       "      <td>5047008.0</td>\n",
       "      <td>1.0</td>\n",
       "      <td>TYPE-B</td>\n",
       "      <td>38</td>\n",
       "      <td>3</td>\n",
       "      <td>ANNUAL</td>\n",
       "      <td>11933</td>\n",
       "      <td>INFORCE</td>\n",
       "      <td>2007-03-30</td>\n",
       "      <td>1</td>\n",
       "    </tr>\n",
       "    <tr>\n",
       "      <th>11</th>\n",
       "      <td>39</td>\n",
       "      <td>100000.0</td>\n",
       "      <td>M</td>\n",
       "      <td>M</td>\n",
       "      <td>3600000.0</td>\n",
       "      <td>1.0</td>\n",
       "      <td>TYPE-B</td>\n",
       "      <td>35</td>\n",
       "      <td>3</td>\n",
       "      <td>ANNUAL</td>\n",
       "      <td>9499</td>\n",
       "      <td>INFORCE</td>\n",
       "      <td>2007-03-30</td>\n",
       "      <td>1</td>\n",
       "    </tr>\n",
       "  </tbody>\n",
       "</table>\n",
       "</div>"
      ],
      "text/plain": [
       "    MEMBERSHIP_TERM_YEARS  ANNUAL_FEES MEMBER_MARITAL_STATUS MEMBER_GENDER  \\\n",
       "0                      29     113125.0                     M             M   \n",
       "1                      38     112220.0                     M             M   \n",
       "2                      12     100000.0                     M             M   \n",
       "3                      12     100000.0                     M             M   \n",
       "4                      46     100000.0                     M             M   \n",
       "6                      36     100000.0                     M             M   \n",
       "7                      12     120000.0                     M             M   \n",
       "9                      33     102700.0                     M             M   \n",
       "10                     12    1000000.0                     M             M   \n",
       "11                     39     100000.0                     M             M   \n",
       "\n",
       "    MEMBER_ANNUAL_INCOME  MEMBER_OCCUPATION_CD MEMBERSHIP_PACKAGE  \\\n",
       "0             25200000.0                   1.0             TYPE-B   \n",
       "1             10339200.0                   1.0             TYPE-B   \n",
       "2             14400000.0                   1.0             TYPE-B   \n",
       "3              9000000.0                   1.0             TYPE-B   \n",
       "4              4800000.0                   1.0             TYPE-B   \n",
       "6             24000000.0                   1.0             TYPE-B   \n",
       "7              3600000.0                   1.0             TYPE-B   \n",
       "9             14400000.0                   1.0             TYPE-B   \n",
       "10             5047008.0                   1.0             TYPE-B   \n",
       "11             3600000.0                   1.0             TYPE-B   \n",
       "\n",
       "    MEMBER_AGE_AT_ISSUE  ADDITIONAL_MEMBERS PAYMENT_MODE AGENT_CODE  \\\n",
       "0                    45                   2       ANNUAL        477   \n",
       "1                    36                   3    QUARTERLY        255   \n",
       "2                    42                   1       ANNUAL       7866   \n",
       "3                    39                   2       ANNUAL     200533   \n",
       "4                    27                   2    QUARTERLY       6988   \n",
       "6                    39                   2       ANNUAL       4055   \n",
       "7                    28                   1    QUARTERLY      13100   \n",
       "9                    42                   2  SEMI-ANNUAL      11266   \n",
       "10                   38                   3       ANNUAL      11933   \n",
       "11                   35                   3       ANNUAL       9499   \n",
       "\n",
       "   MEMBERSHIP_STATUS  START_DATE             END_DATE  \n",
       "0            INFORCE  2006-09-14                    1  \n",
       "1            INFORCE  2006-11-02                    1  \n",
       "2            INFORCE  2007-01-24                    1  \n",
       "3            INFORCE  2007-01-22                    1  \n",
       "4            INFORCE  2007-01-31                    1  \n",
       "6            INFORCE  2007-02-21                    1  \n",
       "7          CANCELLED  2007-03-12  2009-08-11 00:00:00  \n",
       "9            INFORCE  2007-03-30                    1  \n",
       "10           INFORCE  2007-03-30                    1  \n",
       "11           INFORCE  2007-03-30                    1  "
      ]
     },
     "execution_count": 28,
     "metadata": {},
     "output_type": "execute_result"
    }
   ],
   "source": [
    "data1.head(10)"
   ]
  },
  {
   "cell_type": "markdown",
   "metadata": {},
   "source": [
    "### Dealing with Outliers <a> </a>"
   ]
  },
  {
   "cell_type": "code",
   "execution_count": 29,
   "metadata": {},
   "outputs": [
    {
     "data": {
      "text/plain": [
       "<matplotlib.axes._subplots.AxesSubplot at 0x7fd085b7c940>"
      ]
     },
     "execution_count": 29,
     "metadata": {},
     "output_type": "execute_result"
    },
    {
     "data": {
      "image/png": "[encoded data removed]",
      "text/plain": [
       "<Figure size 432x288 with 1 Axes>"
      ]
     },
     "metadata": {
      "needs_background": "light"
     },
     "output_type": "display_data"
    }
   ],
   "source": [
    "import seaborn as sns\n",
    "\n",
    "# Boxplot for MEMBER_ANNUAL_INCOME\n",
    "sns.scatterplot(data=data1[\"MEMBER_ANNUAL_INCOME\"] )"
   ]
  },
  {
   "cell_type": "code",
   "execution_count": 30,
   "metadata": {},
   "outputs": [
    {
     "data": {
      "text/plain": [
       "<matplotlib.axes._subplots.AxesSubplot at 0x7fd0857d4278>"
      ]
     },
     "execution_count": 30,
     "metadata": {},
     "output_type": "execute_result"
    },
    {
     "data": {
      "image/png": "[encoded data removed]",
      "text/plain": [
       "<Figure size 432x288 with 1 Axes>"
      ]
     },
     "metadata": {
      "needs_background": "light"
     },
     "output_type": "display_data"
    }
   ],
   "source": [
    "# Boxplot for ANNUAL_FEES\n",
    "sns.scatterplot(data=data1['ANNUAL_FEES'] )"
   ]
  },
  {
   "cell_type": "markdown",
   "metadata": {},
   "source": [
    "We see that there are some outliers in both numerical columns ie `ANNUAL_FEES` and `MEMBER_ANNUAL_INCOME` we will remove the maximum value from both the columns as they might induce biasness. Although, there are other values which are outside the bounds and will be kept intact because they tend to make their own cluster. Hence, they might help in a different theory altogether because as we know some clubs do provide special membership plans for their prestigious and rich customers. "
   ]
  },
  {
   "cell_type": "code",
   "execution_count": 31,
   "metadata": {},
   "outputs": [
    {
     "data": {
      "text/plain": [
       "260000004.0"
      ]
     },
     "execution_count": 31,
     "metadata": {},
     "output_type": "execute_result"
    }
   ],
   "source": [
    "data1[\"MEMBER_ANNUAL_INCOME\"].max()"
   ]
  },
  {
   "cell_type": "code",
   "execution_count": 32,
   "metadata": {},
   "outputs": [
    {
     "data": {
      "text/plain": [
       "10000000.0"
      ]
     },
     "execution_count": 32,
     "metadata": {},
     "output_type": "execute_result"
    }
   ],
   "source": [
    "data1[\"ANNUAL_FEES\"].max()"
   ]
  },
  {
   "cell_type": "code",
   "execution_count": 33,
   "metadata": {},
   "outputs": [],
   "source": [
    "#data1 = data1[data1[\"MEMBER_ANNUAL_INCOME\"] != 260000004.0]\n",
    "#data1 = data1[data1[\"ANNUAL_FEES\"] != 10000000.0]"
   ]
  },
  {
   "cell_type": "code",
   "execution_count": 34,
   "metadata": {},
   "outputs": [],
   "source": [
    "level_mapping = {1.0: 'One', 2.0: 'Two', 3.0: 'Three', 4.0: 'Four', 5.0: 'Five', 6.0: 'Six'}"
   ]
  },
  {
   "cell_type": "code",
   "execution_count": 35,
   "metadata": {},
   "outputs": [
    {
     "data": {
      "text/html": [
       "<div>\n",
       "<style>\n",
       "    .dataframe tbody tr th:only-of-type {\n",
       "        vertical-align: middle;\n",
       "    }\n",
       "\n",
       "    .dataframe tbody tr th {\n",
       "        vertical-align: top;\n",
       "    }\n",
       "\n",
       "    .dataframe thead th {\n",
       "        text-align: right;\n",
       "    }\n",
       "</style>\n",
       "<table class=\"dataframe\">\n",
       "  <thead>\n",
       "    <tr style=\"text-align: right;\">\n",
       "      <th></th>\n",
       "      <th>MEMBERSHIP_TERM_YEARS</th>\n",
       "      <th>ANNUAL_FEES</th>\n",
       "      <th>MEMBER_MARITAL_STATUS</th>\n",
       "      <th>MEMBER_GENDER</th>\n",
       "      <th>MEMBER_ANNUAL_INCOME</th>\n",
       "      <th>MEMBER_OCCUPATION_CD</th>\n",
       "      <th>MEMBERSHIP_PACKAGE</th>\n",
       "      <th>MEMBER_AGE_AT_ISSUE</th>\n",
       "      <th>ADDITIONAL_MEMBERS</th>\n",
       "      <th>PAYMENT_MODE</th>\n",
       "      <th>AGENT_CODE</th>\n",
       "      <th>MEMBERSHIP_STATUS</th>\n",
       "      <th>START_DATE</th>\n",
       "      <th>END_DATE</th>\n",
       "    </tr>\n",
       "  </thead>\n",
       "  <tbody>\n",
       "    <tr>\n",
       "      <th>0</th>\n",
       "      <td>29</td>\n",
       "      <td>113125.0</td>\n",
       "      <td>M</td>\n",
       "      <td>M</td>\n",
       "      <td>25200000.0</td>\n",
       "      <td>One</td>\n",
       "      <td>TYPE-B</td>\n",
       "      <td>45</td>\n",
       "      <td>2</td>\n",
       "      <td>ANNUAL</td>\n",
       "      <td>477</td>\n",
       "      <td>INFORCE</td>\n",
       "      <td>2006-09-14</td>\n",
       "      <td>1</td>\n",
       "    </tr>\n",
       "    <tr>\n",
       "      <th>1</th>\n",
       "      <td>38</td>\n",
       "      <td>112220.0</td>\n",
       "      <td>M</td>\n",
       "      <td>M</td>\n",
       "      <td>10339200.0</td>\n",
       "      <td>One</td>\n",
       "      <td>TYPE-B</td>\n",
       "      <td>36</td>\n",
       "      <td>3</td>\n",
       "      <td>QUARTERLY</td>\n",
       "      <td>255</td>\n",
       "      <td>INFORCE</td>\n",
       "      <td>2006-11-02</td>\n",
       "      <td>1</td>\n",
       "    </tr>\n",
       "    <tr>\n",
       "      <th>2</th>\n",
       "      <td>12</td>\n",
       "      <td>100000.0</td>\n",
       "      <td>M</td>\n",
       "      <td>M</td>\n",
       "      <td>14400000.0</td>\n",
       "      <td>One</td>\n",
       "      <td>TYPE-B</td>\n",
       "      <td>42</td>\n",
       "      <td>1</td>\n",
       "      <td>ANNUAL</td>\n",
       "      <td>7866</td>\n",
       "      <td>INFORCE</td>\n",
       "      <td>2007-01-24</td>\n",
       "      <td>1</td>\n",
       "    </tr>\n",
       "    <tr>\n",
       "      <th>3</th>\n",
       "      <td>12</td>\n",
       "      <td>100000.0</td>\n",
       "      <td>M</td>\n",
       "      <td>M</td>\n",
       "      <td>9000000.0</td>\n",
       "      <td>One</td>\n",
       "      <td>TYPE-B</td>\n",
       "      <td>39</td>\n",
       "      <td>2</td>\n",
       "      <td>ANNUAL</td>\n",
       "      <td>200533</td>\n",
       "      <td>INFORCE</td>\n",
       "      <td>2007-01-22</td>\n",
       "      <td>1</td>\n",
       "    </tr>\n",
       "    <tr>\n",
       "      <th>4</th>\n",
       "      <td>46</td>\n",
       "      <td>100000.0</td>\n",
       "      <td>M</td>\n",
       "      <td>M</td>\n",
       "      <td>4800000.0</td>\n",
       "      <td>One</td>\n",
       "      <td>TYPE-B</td>\n",
       "      <td>27</td>\n",
       "      <td>2</td>\n",
       "      <td>QUARTERLY</td>\n",
       "      <td>6988</td>\n",
       "      <td>INFORCE</td>\n",
       "      <td>2007-01-31</td>\n",
       "      <td>1</td>\n",
       "    </tr>\n",
       "  </tbody>\n",
       "</table>\n",
       "</div>"
      ],
      "text/plain": [
       "   MEMBERSHIP_TERM_YEARS  ANNUAL_FEES MEMBER_MARITAL_STATUS MEMBER_GENDER  \\\n",
       "0                     29     113125.0                     M             M   \n",
       "1                     38     112220.0                     M             M   \n",
       "2                     12     100000.0                     M             M   \n",
       "3                     12     100000.0                     M             M   \n",
       "4                     46     100000.0                     M             M   \n",
       "\n",
       "   MEMBER_ANNUAL_INCOME MEMBER_OCCUPATION_CD MEMBERSHIP_PACKAGE  \\\n",
       "0            25200000.0                  One             TYPE-B   \n",
       "1            10339200.0                  One             TYPE-B   \n",
       "2            14400000.0                  One             TYPE-B   \n",
       "3             9000000.0                  One             TYPE-B   \n",
       "4             4800000.0                  One             TYPE-B   \n",
       "\n",
       "   MEMBER_AGE_AT_ISSUE  ADDITIONAL_MEMBERS PAYMENT_MODE AGENT_CODE  \\\n",
       "0                   45                   2       ANNUAL        477   \n",
       "1                   36                   3    QUARTERLY        255   \n",
       "2                   42                   1       ANNUAL       7866   \n",
       "3                   39                   2       ANNUAL     200533   \n",
       "4                   27                   2    QUARTERLY       6988   \n",
       "\n",
       "  MEMBERSHIP_STATUS  START_DATE END_DATE  \n",
       "0           INFORCE  2006-09-14        1  \n",
       "1           INFORCE  2006-11-02        1  \n",
       "2           INFORCE  2007-01-24        1  \n",
       "3           INFORCE  2007-01-22        1  \n",
       "4           INFORCE  2007-01-31        1  "
      ]
     },
     "execution_count": 35,
     "metadata": {},
     "output_type": "execute_result"
    }
   ],
   "source": [
    "data1['MEMBER_OCCUPATION_CD'] = data1['MEMBER_OCCUPATION_CD'].replace(level_mapping)\n",
    "\n",
    "data1.head(5)"
   ]
  },
  {
   "cell_type": "markdown",
   "metadata": {},
   "source": [
    "We integer encoded the `MEMBER_OCCUPATION_CD` as we know Occupation 2 is not twice the Occupation 1 and this is the reason we integer encoded the perticular column as Algorithm might interpret so."
   ]
  },
  {
   "cell_type": "code",
   "execution_count": 36,
   "metadata": {},
   "outputs": [
    {
     "name": "stdout",
     "output_type": "stream",
     "text": [
      "100000.00    2506\n",
      "200000.00     348\n",
      "150000.00     276\n",
      "120000.96     202\n",
      "100000.80     148\n",
      "             ... \n",
      "309579.27       1\n",
      "103724.76       1\n",
      "121797.96       1\n",
      "125405.52       1\n",
      "102400.00       1\n",
      "Name: ANNUAL_FEES, Length: 2068, dtype: int64\n"
     ]
    }
   ],
   "source": [
    "print(data1['ANNUAL_FEES'].value_counts())"
   ]
  },
  {
   "cell_type": "code",
   "execution_count": 37,
   "metadata": {},
   "outputs": [
    {
     "name": "stdout",
     "output_type": "stream",
     "text": [
      "399996.0       536\n",
      "999996.0       507\n",
      "300000.0       505\n",
      "500004.0       491\n",
      "600000.0       446\n",
      "              ... \n",
      "6464172.0        1\n",
      "11355492.0       1\n",
      "383532.0         1\n",
      "636000.0         1\n",
      "150000000.0      1\n",
      "Name: MEMBER_ANNUAL_INCOME, Length: 691, dtype: int64\n"
     ]
    }
   ],
   "source": [
    "print(data1['MEMBER_ANNUAL_INCOME'].value_counts())"
   ]
  },
  {
   "cell_type": "markdown",
   "metadata": {},
   "source": [
    "We see that we have START_DATE and END_DATE columns which are time based data columns and would not prove a beneficial component towards our analysis to predict the customers who might be retained by the club. Hence, we would remove those features from our data. \n",
    "\n",
    "Moreover, We see that we have AGENT_CODE we do consider the fact that any feature that is not relevant for “learning” needs to be removed hence we find that a customer cancelling a membership or being a member does not depend upon the Agent through which they have enrolled through. So, We will remove this feature as well."
   ]
  },
  {
   "cell_type": "code",
   "execution_count": 38,
   "metadata": {},
   "outputs": [
    {
     "data": {
      "text/html": [
       "<div>\n",
       "<style>\n",
       "    .dataframe tbody tr th:only-of-type {\n",
       "        vertical-align: middle;\n",
       "    }\n",
       "\n",
       "    .dataframe tbody tr th {\n",
       "        vertical-align: top;\n",
       "    }\n",
       "\n",
       "    .dataframe thead th {\n",
       "        text-align: right;\n",
       "    }\n",
       "</style>\n",
       "<table class=\"dataframe\">\n",
       "  <thead>\n",
       "    <tr style=\"text-align: right;\">\n",
       "      <th></th>\n",
       "      <th>MEMBERSHIP_TERM_YEARS</th>\n",
       "      <th>ANNUAL_FEES</th>\n",
       "      <th>MEMBER_MARITAL_STATUS</th>\n",
       "      <th>MEMBER_GENDER</th>\n",
       "      <th>MEMBER_ANNUAL_INCOME</th>\n",
       "      <th>MEMBER_OCCUPATION_CD</th>\n",
       "      <th>MEMBERSHIP_PACKAGE</th>\n",
       "      <th>MEMBER_AGE_AT_ISSUE</th>\n",
       "      <th>ADDITIONAL_MEMBERS</th>\n",
       "      <th>PAYMENT_MODE</th>\n",
       "      <th>MEMBERSHIP_STATUS</th>\n",
       "    </tr>\n",
       "  </thead>\n",
       "  <tbody>\n",
       "    <tr>\n",
       "      <th>0</th>\n",
       "      <td>29</td>\n",
       "      <td>113125.0</td>\n",
       "      <td>M</td>\n",
       "      <td>M</td>\n",
       "      <td>25200000.0</td>\n",
       "      <td>One</td>\n",
       "      <td>TYPE-B</td>\n",
       "      <td>45</td>\n",
       "      <td>2</td>\n",
       "      <td>ANNUAL</td>\n",
       "      <td>INFORCE</td>\n",
       "    </tr>\n",
       "    <tr>\n",
       "      <th>1</th>\n",
       "      <td>38</td>\n",
       "      <td>112220.0</td>\n",
       "      <td>M</td>\n",
       "      <td>M</td>\n",
       "      <td>10339200.0</td>\n",
       "      <td>One</td>\n",
       "      <td>TYPE-B</td>\n",
       "      <td>36</td>\n",
       "      <td>3</td>\n",
       "      <td>QUARTERLY</td>\n",
       "      <td>INFORCE</td>\n",
       "    </tr>\n",
       "    <tr>\n",
       "      <th>2</th>\n",
       "      <td>12</td>\n",
       "      <td>100000.0</td>\n",
       "      <td>M</td>\n",
       "      <td>M</td>\n",
       "      <td>14400000.0</td>\n",
       "      <td>One</td>\n",
       "      <td>TYPE-B</td>\n",
       "      <td>42</td>\n",
       "      <td>1</td>\n",
       "      <td>ANNUAL</td>\n",
       "      <td>INFORCE</td>\n",
       "    </tr>\n",
       "    <tr>\n",
       "      <th>3</th>\n",
       "      <td>12</td>\n",
       "      <td>100000.0</td>\n",
       "      <td>M</td>\n",
       "      <td>M</td>\n",
       "      <td>9000000.0</td>\n",
       "      <td>One</td>\n",
       "      <td>TYPE-B</td>\n",
       "      <td>39</td>\n",
       "      <td>2</td>\n",
       "      <td>ANNUAL</td>\n",
       "      <td>INFORCE</td>\n",
       "    </tr>\n",
       "    <tr>\n",
       "      <th>4</th>\n",
       "      <td>46</td>\n",
       "      <td>100000.0</td>\n",
       "      <td>M</td>\n",
       "      <td>M</td>\n",
       "      <td>4800000.0</td>\n",
       "      <td>One</td>\n",
       "      <td>TYPE-B</td>\n",
       "      <td>27</td>\n",
       "      <td>2</td>\n",
       "      <td>QUARTERLY</td>\n",
       "      <td>INFORCE</td>\n",
       "    </tr>\n",
       "  </tbody>\n",
       "</table>\n",
       "</div>"
      ],
      "text/plain": [
       "   MEMBERSHIP_TERM_YEARS  ANNUAL_FEES MEMBER_MARITAL_STATUS MEMBER_GENDER  \\\n",
       "0                     29     113125.0                     M             M   \n",
       "1                     38     112220.0                     M             M   \n",
       "2                     12     100000.0                     M             M   \n",
       "3                     12     100000.0                     M             M   \n",
       "4                     46     100000.0                     M             M   \n",
       "\n",
       "   MEMBER_ANNUAL_INCOME MEMBER_OCCUPATION_CD MEMBERSHIP_PACKAGE  \\\n",
       "0            25200000.0                  One             TYPE-B   \n",
       "1            10339200.0                  One             TYPE-B   \n",
       "2            14400000.0                  One             TYPE-B   \n",
       "3             9000000.0                  One             TYPE-B   \n",
       "4             4800000.0                  One             TYPE-B   \n",
       "\n",
       "   MEMBER_AGE_AT_ISSUE  ADDITIONAL_MEMBERS PAYMENT_MODE MEMBERSHIP_STATUS  \n",
       "0                   45                   2       ANNUAL           INFORCE  \n",
       "1                   36                   3    QUARTERLY           INFORCE  \n",
       "2                   42                   1       ANNUAL           INFORCE  \n",
       "3                   39                   2       ANNUAL           INFORCE  \n",
       "4                   27                   2    QUARTERLY           INFORCE  "
      ]
     },
     "execution_count": 38,
     "metadata": {},
     "output_type": "execute_result"
    }
   ],
   "source": [
    "data2 = data1.drop(columns = ['START_DATE', 'END_DATE', 'AGENT_CODE'])\n",
    "data2.head()"
   ]
  },
  {
   "cell_type": "code",
   "execution_count": 39,
   "metadata": {},
   "outputs": [],
   "source": [
    "data3 = data2.drop(columns = 'MEMBERSHIP_STATUS')"
   ]
  },
  {
   "cell_type": "code",
   "execution_count": 40,
   "metadata": {},
   "outputs": [],
   "source": [
    "target = data2['MEMBERSHIP_STATUS']"
   ]
  },
  {
   "cell_type": "code",
   "execution_count": 41,
   "metadata": {},
   "outputs": [
    {
     "data": {
      "text/html": [
       "<div>\n",
       "<style>\n",
       "    .dataframe tbody tr th:only-of-type {\n",
       "        vertical-align: middle;\n",
       "    }\n",
       "\n",
       "    .dataframe tbody tr th {\n",
       "        vertical-align: top;\n",
       "    }\n",
       "\n",
       "    .dataframe thead th {\n",
       "        text-align: right;\n",
       "    }\n",
       "</style>\n",
       "<table class=\"dataframe\">\n",
       "  <thead>\n",
       "    <tr style=\"text-align: right;\">\n",
       "      <th></th>\n",
       "      <th>MEMBERSHIP_TERM_YEARS</th>\n",
       "      <th>ANNUAL_FEES</th>\n",
       "      <th>MEMBER_MARITAL_STATUS</th>\n",
       "      <th>MEMBER_GENDER</th>\n",
       "      <th>MEMBER_ANNUAL_INCOME</th>\n",
       "      <th>MEMBER_OCCUPATION_CD</th>\n",
       "      <th>MEMBERSHIP_PACKAGE</th>\n",
       "      <th>MEMBER_AGE_AT_ISSUE</th>\n",
       "      <th>ADDITIONAL_MEMBERS</th>\n",
       "      <th>PAYMENT_MODE</th>\n",
       "    </tr>\n",
       "  </thead>\n",
       "  <tbody>\n",
       "    <tr>\n",
       "      <th>0</th>\n",
       "      <td>29</td>\n",
       "      <td>113125.0</td>\n",
       "      <td>M</td>\n",
       "      <td>M</td>\n",
       "      <td>25200000.0</td>\n",
       "      <td>One</td>\n",
       "      <td>TYPE-B</td>\n",
       "      <td>45</td>\n",
       "      <td>2</td>\n",
       "      <td>ANNUAL</td>\n",
       "    </tr>\n",
       "    <tr>\n",
       "      <th>1</th>\n",
       "      <td>38</td>\n",
       "      <td>112220.0</td>\n",
       "      <td>M</td>\n",
       "      <td>M</td>\n",
       "      <td>10339200.0</td>\n",
       "      <td>One</td>\n",
       "      <td>TYPE-B</td>\n",
       "      <td>36</td>\n",
       "      <td>3</td>\n",
       "      <td>QUARTERLY</td>\n",
       "    </tr>\n",
       "    <tr>\n",
       "      <th>2</th>\n",
       "      <td>12</td>\n",
       "      <td>100000.0</td>\n",
       "      <td>M</td>\n",
       "      <td>M</td>\n",
       "      <td>14400000.0</td>\n",
       "      <td>One</td>\n",
       "      <td>TYPE-B</td>\n",
       "      <td>42</td>\n",
       "      <td>1</td>\n",
       "      <td>ANNUAL</td>\n",
       "    </tr>\n",
       "    <tr>\n",
       "      <th>3</th>\n",
       "      <td>12</td>\n",
       "      <td>100000.0</td>\n",
       "      <td>M</td>\n",
       "      <td>M</td>\n",
       "      <td>9000000.0</td>\n",
       "      <td>One</td>\n",
       "      <td>TYPE-B</td>\n",
       "      <td>39</td>\n",
       "      <td>2</td>\n",
       "      <td>ANNUAL</td>\n",
       "    </tr>\n",
       "    <tr>\n",
       "      <th>4</th>\n",
       "      <td>46</td>\n",
       "      <td>100000.0</td>\n",
       "      <td>M</td>\n",
       "      <td>M</td>\n",
       "      <td>4800000.0</td>\n",
       "      <td>One</td>\n",
       "      <td>TYPE-B</td>\n",
       "      <td>27</td>\n",
       "      <td>2</td>\n",
       "      <td>QUARTERLY</td>\n",
       "    </tr>\n",
       "  </tbody>\n",
       "</table>\n",
       "</div>"
      ],
      "text/plain": [
       "   MEMBERSHIP_TERM_YEARS  ANNUAL_FEES MEMBER_MARITAL_STATUS MEMBER_GENDER  \\\n",
       "0                     29     113125.0                     M             M   \n",
       "1                     38     112220.0                     M             M   \n",
       "2                     12     100000.0                     M             M   \n",
       "3                     12     100000.0                     M             M   \n",
       "4                     46     100000.0                     M             M   \n",
       "\n",
       "   MEMBER_ANNUAL_INCOME MEMBER_OCCUPATION_CD MEMBERSHIP_PACKAGE  \\\n",
       "0            25200000.0                  One             TYPE-B   \n",
       "1            10339200.0                  One             TYPE-B   \n",
       "2            14400000.0                  One             TYPE-B   \n",
       "3             9000000.0                  One             TYPE-B   \n",
       "4             4800000.0                  One             TYPE-B   \n",
       "\n",
       "   MEMBER_AGE_AT_ISSUE  ADDITIONAL_MEMBERS PAYMENT_MODE  \n",
       "0                   45                   2       ANNUAL  \n",
       "1                   36                   3    QUARTERLY  \n",
       "2                   42                   1       ANNUAL  \n",
       "3                   39                   2       ANNUAL  \n",
       "4                   27                   2    QUARTERLY  "
      ]
     },
     "execution_count": 41,
     "metadata": {},
     "output_type": "execute_result"
    }
   ],
   "source": [
    "data3.head()"
   ]
  },
  {
   "cell_type": "code",
   "execution_count": 42,
   "metadata": {},
   "outputs": [
    {
     "data": {
      "text/plain": [
       "0    INFORCE\n",
       "1    INFORCE\n",
       "2    INFORCE\n",
       "3    INFORCE\n",
       "4    INFORCE\n",
       "Name: MEMBERSHIP_STATUS, dtype: object"
      ]
     },
     "execution_count": 42,
     "metadata": {},
     "output_type": "execute_result"
    }
   ],
   "source": [
    "target.head()"
   ]
  },
  {
   "cell_type": "markdown",
   "metadata": {},
   "source": [
    "# Data Preprocessing <a> </a>"
   ]
  },
  {
   "cell_type": "markdown",
   "metadata": {},
   "source": [
    "&gt; We will now use One-Hot-Encoding on the categorical features because machine learning algorithms cannot work with categorical data directly. Therefore, The categories must be converted into numbers."
   ]
  },
  {
   "cell_type": "code",
   "execution_count": 43,
   "metadata": {},
   "outputs": [],
   "source": [
    "# get the list of categorical descriptive features\n",
    "categorical_cols = data3.columns[data3.dtypes==object].tolist()\n",
    "\n",
    "# if a categorical descriptive feature has only 2 levels,\n",
    "# define only one binary variable\n",
    "for col in categorical_cols:\n",
    "    n = len(data3[col].unique())\n",
    "    if (n == 2):\n",
    "        data3[col] = pd.get_dummies(data3[col], drop_first=True)\n",
    "\n",
    "# for other categorical features (with > 2 levels), \n",
    "# use regular one-hot-encoding \n",
    "# if a feature is numeric, it will be untouched\n",
    "data3 = pd.get_dummies(data3)"
   ]
  },
  {
   "cell_type": "code",
   "execution_count": 44,
   "metadata": {},
   "outputs": [
    {
     "data": {
      "text/html": [
       "<div>\n",
       "<style>\n",
       "    .dataframe tbody tr th:only-of-type {\n",
       "        vertical-align: middle;\n",
       "    }\n",
       "\n",
       "    .dataframe tbody tr th {\n",
       "        vertical-align: top;\n",
       "    }\n",
       "\n",
       "    .dataframe thead th {\n",
       "        text-align: right;\n",
       "    }\n",
       "</style>\n",
       "<table class=\"dataframe\">\n",
       "  <thead>\n",
       "    <tr style=\"text-align: right;\">\n",
       "      <th></th>\n",
       "      <th>MEMBERSHIP_TERM_YEARS</th>\n",
       "      <th>ANNUAL_FEES</th>\n",
       "      <th>MEMBER_GENDER</th>\n",
       "      <th>MEMBER_ANNUAL_INCOME</th>\n",
       "      <th>MEMBERSHIP_PACKAGE</th>\n",
       "      <th>MEMBER_AGE_AT_ISSUE</th>\n",
       "      <th>ADDITIONAL_MEMBERS</th>\n",
       "      <th>MEMBER_MARITAL_STATUS_D</th>\n",
       "      <th>MEMBER_MARITAL_STATUS_M</th>\n",
       "      <th>MEMBER_MARITAL_STATUS_S</th>\n",
       "      <th>MEMBER_MARITAL_STATUS_W</th>\n",
       "      <th>MEMBER_OCCUPATION_CD_Five</th>\n",
       "      <th>MEMBER_OCCUPATION_CD_One</th>\n",
       "      <th>MEMBER_OCCUPATION_CD_Two</th>\n",
       "      <th>PAYMENT_MODE_ANNUAL</th>\n",
       "      <th>PAYMENT_MODE_MONTHLY</th>\n",
       "      <th>PAYMENT_MODE_QUARTERLY</th>\n",
       "      <th>PAYMENT_MODE_SEMI-ANNUAL</th>\n",
       "      <th>PAYMENT_MODE_SINGLE-PREMIUM</th>\n",
       "    </tr>\n",
       "  </thead>\n",
       "  <tbody>\n",
       "    <tr>\n",
       "      <th>0</th>\n",
       "      <td>29</td>\n",
       "      <td>113125.0</td>\n",
       "      <td>1</td>\n",
       "      <td>25200000.0</td>\n",
       "      <td>1</td>\n",
       "      <td>45</td>\n",
       "      <td>2</td>\n",
       "      <td>0</td>\n",
       "      <td>1</td>\n",
       "      <td>0</td>\n",
       "      <td>0</td>\n",
       "      <td>0</td>\n",
       "      <td>1</td>\n",
       "      <td>0</td>\n",
       "      <td>1</td>\n",
       "      <td>0</td>\n",
       "      <td>0</td>\n",
       "      <td>0</td>\n",
       "      <td>0</td>\n",
       "    </tr>\n",
       "    <tr>\n",
       "      <th>1</th>\n",
       "      <td>38</td>\n",
       "      <td>112220.0</td>\n",
       "      <td>1</td>\n",
       "      <td>10339200.0</td>\n",
       "      <td>1</td>\n",
       "      <td>36</td>\n",
       "      <td>3</td>\n",
       "      <td>0</td>\n",
       "      <td>1</td>\n",
       "      <td>0</td>\n",
       "      <td>0</td>\n",
       "      <td>0</td>\n",
       "      <td>1</td>\n",
       "      <td>0</td>\n",
       "      <td>0</td>\n",
       "      <td>0</td>\n",
       "      <td>1</td>\n",
       "      <td>0</td>\n",
       "      <td>0</td>\n",
       "    </tr>\n",
       "    <tr>\n",
       "      <th>2</th>\n",
       "      <td>12</td>\n",
       "      <td>100000.0</td>\n",
       "      <td>1</td>\n",
       "      <td>14400000.0</td>\n",
       "      <td>1</td>\n",
       "      <td>42</td>\n",
       "      <td>1</td>\n",
       "      <td>0</td>\n",
       "      <td>1</td>\n",
       "      <td>0</td>\n",
       "      <td>0</td>\n",
       "      <td>0</td>\n",
       "      <td>1</td>\n",
       "      <td>0</td>\n",
       "      <td>1</td>\n",
       "      <td>0</td>\n",
       "      <td>0</td>\n",
       "      <td>0</td>\n",
       "      <td>0</td>\n",
       "    </tr>\n",
       "    <tr>\n",
       "      <th>3</th>\n",
       "      <td>12</td>\n",
       "      <td>100000.0</td>\n",
       "      <td>1</td>\n",
       "      <td>9000000.0</td>\n",
       "      <td>1</td>\n",
       "      <td>39</td>\n",
       "      <td>2</td>\n",
       "      <td>0</td>\n",
       "      <td>1</td>\n",
       "      <td>0</td>\n",
       "      <td>0</td>\n",
       "      <td>0</td>\n",
       "      <td>1</td>\n",
       "      <td>0</td>\n",
       "      <td>1</td>\n",
       "      <td>0</td>\n",
       "      <td>0</td>\n",
       "      <td>0</td>\n",
       "      <td>0</td>\n",
       "    </tr>\n",
       "    <tr>\n",
       "      <th>4</th>\n",
       "      <td>46</td>\n",
       "      <td>100000.0</td>\n",
       "      <td>1</td>\n",
       "      <td>4800000.0</td>\n",
       "      <td>1</td>\n",
       "      <td>27</td>\n",
       "      <td>2</td>\n",
       "      <td>0</td>\n",
       "      <td>1</td>\n",
       "      <td>0</td>\n",
       "      <td>0</td>\n",
       "      <td>0</td>\n",
       "      <td>1</td>\n",
       "      <td>0</td>\n",
       "      <td>0</td>\n",
       "      <td>0</td>\n",
       "      <td>1</td>\n",
       "      <td>0</td>\n",
       "      <td>0</td>\n",
       "    </tr>\n",
       "  </tbody>\n",
       "</table>\n",
       "</div>"
      ],
      "text/plain": [
       "   MEMBERSHIP_TERM_YEARS  ANNUAL_FEES  MEMBER_GENDER  MEMBER_ANNUAL_INCOME  \\\n",
       "0                     29     113125.0              1            25200000.0   \n",
       "1                     38     112220.0              1            10339200.0   \n",
       "2                     12     100000.0              1            14400000.0   \n",
       "3                     12     100000.0              1             9000000.0   \n",
       "4                     46     100000.0              1             4800000.0   \n",
       "\n",
       "   MEMBERSHIP_PACKAGE  MEMBER_AGE_AT_ISSUE  ADDITIONAL_MEMBERS  \\\n",
       "0                   1                   45                   2   \n",
       "1                   1                   36                   3   \n",
       "2                   1                   42                   1   \n",
       "3                   1                   39                   2   \n",
       "4                   1                   27                   2   \n",
       "\n",
       "   MEMBER_MARITAL_STATUS_D  MEMBER_MARITAL_STATUS_M  MEMBER_MARITAL_STATUS_S  \\\n",
       "0                        0                        1                        0   \n",
       "1                        0                        1                        0   \n",
       "2                        0                        1                        0   \n",
       "3                        0                        1                        0   \n",
       "4                        0                        1                        0   \n",
       "\n",
       "   MEMBER_MARITAL_STATUS_W  MEMBER_OCCUPATION_CD_Five  \\\n",
       "0                        0                          0   \n",
       "1                        0                          0   \n",
       "2                        0                          0   \n",
       "3                        0                          0   \n",
       "4                        0                          0   \n",
       "\n",
       "   MEMBER_OCCUPATION_CD_One  MEMBER_OCCUPATION_CD_Two  PAYMENT_MODE_ANNUAL  \\\n",
       "0                         1                         0                    1   \n",
       "1                         1                         0                    0   \n",
       "2                         1                         0                    1   \n",
       "3                         1                         0                    1   \n",
       "4                         1                         0                    0   \n",
       "\n",
       "   PAYMENT_MODE_MONTHLY  PAYMENT_MODE_QUARTERLY  PAYMENT_MODE_SEMI-ANNUAL  \\\n",
       "0                     0                       0                         0   \n",
       "1                     0                       1                         0   \n",
       "2                     0                       0                         0   \n",
       "3                     0                       0                         0   \n",
       "4                     0                       1                         0   \n",
       "\n",
       "   PAYMENT_MODE_SINGLE-PREMIUM  \n",
       "0                            0  \n",
       "1                            0  \n",
       "2                            0  \n",
       "3                            0  \n",
       "4                            0  "
      ]
     },
     "execution_count": 44,
     "metadata": {},
     "output_type": "execute_result"
    }
   ],
   "source": [
    "data3.head()"
   ]
  },
  {
   "cell_type": "markdown",
   "metadata": {},
   "source": [
    "We scaled the descriptive feaatures to be between 0 and 1 so as to easily be processed by the Algorithms. Also, it will convert the dataframe in pandas to numpy which makes it easier to work with the scikit-learn as it is built on numpy."
   ]
  },
  {
   "cell_type": "code",
   "execution_count": 45,
   "metadata": {},
   "outputs": [
    {
     "name": "stderr",
     "output_type": "stream",
     "text": [
      "/home/nbuser/anaconda3_501/lib/python3.6/site-packages/sklearn/preprocessing/data.py:334: DataConversionWarning: Data with input dtype uint8, int64, float64 were all converted to float64 by MinMaxScaler.\n",
      "  return self.partial_fit(X, y)\n"
     ]
    }
   ],
   "source": [
    "from sklearn.preprocessing import RobustScaler\n",
    "Data = data3.copy()\n",
    "\n",
    "Data = preprocessing.MinMaxScaler().fit_transform(Data)"
   ]
  },
  {
   "cell_type": "code",
   "execution_count": 46,
   "metadata": {},
   "outputs": [
    {
     "name": "stdout",
     "output_type": "stream",
     "text": [
      "<class 'numpy.ndarray'>\n"
     ]
    }
   ],
   "source": [
    "print(type(Data))"
   ]
  },
  {
   "cell_type": "code",
   "execution_count": 47,
   "metadata": {},
   "outputs": [
    {
     "data": {
      "text/plain": [
       "(array([0, 1]), array([4937, 2338]))"
      ]
     },
     "execution_count": 47,
     "metadata": {},
     "output_type": "execute_result"
    }
   ],
   "source": [
    "target_encoded = np.where(target=='CANCELLED', 1, 0)\n",
    "\n",
    "#le = preprocessing.LabelEncoder()\n",
    "#le_fit = le.fit(target)\n",
    "#target_encoded = le_fit.transform(target)\n",
    "\n",
    "np.unique(target_encoded, return_counts = True)"
   ]
  },
  {
   "cell_type": "code",
   "execution_count": 48,
   "metadata": {},
   "outputs": [
    {
     "name": "stdout",
     "output_type": "stream",
     "text": [
      "<class 'numpy.ndarray'>\n"
     ]
    }
   ],
   "source": [
    "print(type(target_encoded))"
   ]
  },
  {
   "cell_type": "code",
   "execution_count": 49,
   "metadata": {},
   "outputs": [
    {
     "name": "stdout",
     "output_type": "stream",
     "text": [
      "[0 0 0 ... 0 0 0]\n"
     ]
    }
   ],
   "source": [
    "print(target_encoded)"
   ]
  },
  {
   "cell_type": "markdown",
   "metadata": {},
   "source": [
    "## Data Exploration <a> </a>"
   ]
  },
  {
   "cell_type": "markdown",
   "metadata": {},
   "source": [
    "We will first see the age groups who have enrolled in the membership and analyse the proportion of the people who are more involved in the membership programs.\n",
    "\n",
    "For this we will divide the people in the age groups of Young, Middle-Aged and Elderly."
   ]
  },
  {
   "cell_type": "code",
   "execution_count": 50,
   "metadata": {},
   "outputs": [
    {
     "data": {
      "text/plain": [
       "78"
      ]
     },
     "execution_count": 50,
     "metadata": {},
     "output_type": "execute_result"
    }
   ],
   "source": [
    "data2['MEMBER_AGE_AT_ISSUE'].max()"
   ]
  },
  {
   "cell_type": "code",
   "execution_count": 51,
   "metadata": {},
   "outputs": [
    {
     "data": {
      "text/plain": [
       "18"
      ]
     },
     "execution_count": 51,
     "metadata": {},
     "output_type": "execute_result"
    }
   ],
   "source": [
    "data2['MEMBER_AGE_AT_ISSUE'].min()"
   ]
  },
  {
   "cell_type": "code",
   "execution_count": 52,
   "metadata": {},
   "outputs": [
    {
     "data": {
      "text/html": [
       "<div>\n",
       "<style>\n",
       "    .dataframe tbody tr th:only-of-type {\n",
       "        vertical-align: middle;\n",
       "    }\n",
       "\n",
       "    .dataframe tbody tr th {\n",
       "        vertical-align: top;\n",
       "    }\n",
       "\n",
       "    .dataframe thead th {\n",
       "        text-align: right;\n",
       "    }\n",
       "</style>\n",
       "<table class=\"dataframe\">\n",
       "  <thead>\n",
       "    <tr style=\"text-align: right;\">\n",
       "      <th></th>\n",
       "      <th>MEMBERSHIP_TERM_YEARS</th>\n",
       "      <th>ANNUAL_FEES</th>\n",
       "      <th>MEMBER_MARITAL_STATUS</th>\n",
       "      <th>MEMBER_GENDER</th>\n",
       "      <th>MEMBER_ANNUAL_INCOME</th>\n",
       "      <th>MEMBER_OCCUPATION_CD</th>\n",
       "      <th>MEMBERSHIP_PACKAGE</th>\n",
       "      <th>MEMBER_AGE_AT_ISSUE</th>\n",
       "      <th>ADDITIONAL_MEMBERS</th>\n",
       "      <th>PAYMENT_MODE</th>\n",
       "      <th>MEMBERSHIP_STATUS</th>\n",
       "    </tr>\n",
       "  </thead>\n",
       "  <tbody>\n",
       "    <tr>\n",
       "      <th>0</th>\n",
       "      <td>29</td>\n",
       "      <td>113125.0</td>\n",
       "      <td>M</td>\n",
       "      <td>M</td>\n",
       "      <td>25200000.0</td>\n",
       "      <td>One</td>\n",
       "      <td>TYPE-B</td>\n",
       "      <td>Middle-Aged</td>\n",
       "      <td>2</td>\n",
       "      <td>ANNUAL</td>\n",
       "      <td>INFORCE</td>\n",
       "    </tr>\n",
       "    <tr>\n",
       "      <th>1</th>\n",
       "      <td>38</td>\n",
       "      <td>112220.0</td>\n",
       "      <td>M</td>\n",
       "      <td>M</td>\n",
       "      <td>10339200.0</td>\n",
       "      <td>One</td>\n",
       "      <td>TYPE-B</td>\n",
       "      <td>Middle-Aged</td>\n",
       "      <td>3</td>\n",
       "      <td>QUARTERLY</td>\n",
       "      <td>INFORCE</td>\n",
       "    </tr>\n",
       "    <tr>\n",
       "      <th>2</th>\n",
       "      <td>12</td>\n",
       "      <td>100000.0</td>\n",
       "      <td>M</td>\n",
       "      <td>M</td>\n",
       "      <td>14400000.0</td>\n",
       "      <td>One</td>\n",
       "      <td>TYPE-B</td>\n",
       "      <td>Middle-Aged</td>\n",
       "      <td>1</td>\n",
       "      <td>ANNUAL</td>\n",
       "      <td>INFORCE</td>\n",
       "    </tr>\n",
       "    <tr>\n",
       "      <th>3</th>\n",
       "      <td>12</td>\n",
       "      <td>100000.0</td>\n",
       "      <td>M</td>\n",
       "      <td>M</td>\n",
       "      <td>9000000.0</td>\n",
       "      <td>One</td>\n",
       "      <td>TYPE-B</td>\n",
       "      <td>Middle-Aged</td>\n",
       "      <td>2</td>\n",
       "      <td>ANNUAL</td>\n",
       "      <td>INFORCE</td>\n",
       "    </tr>\n",
       "    <tr>\n",
       "      <th>4</th>\n",
       "      <td>46</td>\n",
       "      <td>100000.0</td>\n",
       "      <td>M</td>\n",
       "      <td>M</td>\n",
       "      <td>4800000.0</td>\n",
       "      <td>One</td>\n",
       "      <td>TYPE-B</td>\n",
       "      <td>Young</td>\n",
       "      <td>2</td>\n",
       "      <td>QUARTERLY</td>\n",
       "      <td>INFORCE</td>\n",
       "    </tr>\n",
       "  </tbody>\n",
       "</table>\n",
       "</div>"
      ],
      "text/plain": [
       "   MEMBERSHIP_TERM_YEARS  ANNUAL_FEES MEMBER_MARITAL_STATUS MEMBER_GENDER  \\\n",
       "0                     29     113125.0                     M             M   \n",
       "1                     38     112220.0                     M             M   \n",
       "2                     12     100000.0                     M             M   \n",
       "3                     12     100000.0                     M             M   \n",
       "4                     46     100000.0                     M             M   \n",
       "\n",
       "   MEMBER_ANNUAL_INCOME MEMBER_OCCUPATION_CD MEMBERSHIP_PACKAGE  \\\n",
       "0            25200000.0                  One             TYPE-B   \n",
       "1            10339200.0                  One             TYPE-B   \n",
       "2            14400000.0                  One             TYPE-B   \n",
       "3             9000000.0                  One             TYPE-B   \n",
       "4             4800000.0                  One             TYPE-B   \n",
       "\n",
       "  MEMBER_AGE_AT_ISSUE  ADDITIONAL_MEMBERS PAYMENT_MODE MEMBERSHIP_STATUS  \n",
       "0         Middle-Aged                   2       ANNUAL           INFORCE  \n",
       "1         Middle-Aged                   3    QUARTERLY           INFORCE  \n",
       "2         Middle-Aged                   1       ANNUAL           INFORCE  \n",
       "3         Middle-Aged                   2       ANNUAL           INFORCE  \n",
       "4               Young                   2    QUARTERLY           INFORCE  "
      ]
     },
     "execution_count": 52,
     "metadata": {},
     "output_type": "execute_result"
    }
   ],
   "source": [
    "data2_cat = data2.copy()\n",
    "data2_cat['MEMBER_AGE_AT_ISSUE'] = pd.cut(data2_cat['MEMBER_AGE_AT_ISSUE'],bins=[17,35,55,79],labels=['Young','Middle-Aged','Elderly'])\n",
    "data2_cat.head()"
   ]
  },
  {
   "cell_type": "code",
   "execution_count": 53,
   "metadata": {},
   "outputs": [
    {
     "data": {
      "text/plain": [
       "<vega.vegalite.VegaLite at 0x7fd086fe36a0>"
      ]
     },
     "metadata": {
      "jupyter-vega": "#b5a18e5d-5a5d-42f0-850e-31733fb06f83"
     },
     "output_type": "display_data"
    },
    {
     "data": {
      "text/plain": []
     },
     "execution_count": 53,
     "metadata": {},
     "output_type": "execute_result"
    },
    {
     "data": {
      "image/png": "[encoded data removed]"
     },
     "metadata": {
      "jupyter-vega": "#b5a18e5d-5a5d-42f0-850e-31733fb06f83"
     },
     "output_type": "display_data"
    }
   ],
   "source": [
    "alt.data_transformers.disable_max_rows()\n",
    "alt.Chart(data2_cat, title='Age Groups vs Counts').mark_bar(color='green').encode(x='MEMBER_AGE_AT_ISSUE', y='count()').properties(width=250)"
   ]
  },
  {
   "cell_type": "markdown",
   "metadata": {},
   "source": [
    "We grouped the `MEMBER_AGE_AT_ISSUE` into:\n",
    "\n",
    "- Young: Below 36\n",
    "- Middle-Aged: between 35 and 55\n",
    "- Elderly: 56 and above\n",
    "\n",
    "In our dataset, we have about 4000 Members who are *Middle-Aged* which is twice as compared to the Young group and about 4 times as compared to the Elderly People who have been or still hold the membership of the club. "
   ]
  },
  {
   "cell_type": "code",
   "execution_count": 54,
   "metadata": {},
   "outputs": [
    {
     "data": {
      "text/plain": [
       "<vega.vegalite.VegaLite at 0x7fd08579a198>"
      ]
     },
     "metadata": {
      "jupyter-vega": "#16b1e0a6-5682-4c70-b329-c35bfb497469"
     },
     "output_type": "display_data"
    },
    {
     "data": {
      "text/plain": []
     },
     "execution_count": 54,
     "metadata": {},
     "output_type": "execute_result"
    },
    {
     "data": {
      "image/png": "[encoded data removed]"
     },
     "metadata": {
      "jupyter-vega": "#16b1e0a6-5682-4c70-b329-c35bfb497469"
     },
     "output_type": "display_data"
    }
   ],
   "source": [
    "alt.data_transformers.disable_max_rows()\n",
    "alt.Chart(data2_cat, title='Membership Status vs Counts').mark_bar(color='orange').encode(x='MEMBERSHIP_STATUS', y='count()').properties(width=150)"
   ]
  },
  {
   "cell_type": "markdown",
   "metadata": {},
   "source": [
    "We observe that we have about 5000 members who are still enrolled to the club's Services while about 2200 have cancelled their membership in past."
   ]
  },
  {
   "cell_type": "code",
   "execution_count": 55,
   "metadata": {},
   "outputs": [
    {
     "data": {
      "text/plain": [
       "<vega.vegalite.VegaLite at 0x7fd08571b080>"
      ]
     },
     "metadata": {
      "jupyter-vega": "#b2b4943a-6bf3-4eda-ad57-a69a0d56963f"
     },
     "output_type": "display_data"
    },
    {
     "data": {
      "text/plain": []
     },
     "execution_count": 55,
     "metadata": {},
     "output_type": "execute_result"
    },
    {
     "data": {
      "image/png": "[encoded data removed]"
     },
     "metadata": {
      "jupyter-vega": "#b2b4943a-6bf3-4eda-ad57-a69a0d56963f"
     },
     "output_type": "display_data"
    }
   ],
   "source": [
    "stripplot =  alt.Chart(data2_cat, title='Plot of Payment Mode vs Membership Term Years', width=80, ).mark_circle(size=6).encode(\n",
    "    x=alt.X(\n",
    "        'jitter:Q',\n",
    "        title=None,\n",
    "        axis=alt.Axis(values=[0], ticks=True, grid=False, labels=True),\n",
    "        scale=alt.Scale(),\n",
    "    ),\n",
    "    y=alt.Y('MEMBERSHIP_TERM_YEARS:Q'),\n",
    "    color=alt.Color('PAYMENT_MODE:N', legend=None),\n",
    "    column=alt.Column(\n",
    "        'PAYMENT_MODE:N',\n",
    "        header=alt.Header(\n",
    "            labelAngle=-90,\n",
    "            titleOrient='top',\n",
    "            labelOrient='bottom',\n",
    "            labelAlign='right',\n",
    "            labelPadding=5,\n",
    "        ),\n",
    "    ),\n",
    ").transform_calculate(\n",
    "    # Generate Gaussian jitter with a Box-Muller transform\n",
    "    jitter='sqrt(-2*log(random()))*cos(2*PI*random())'\n",
    ").configure_facet(\n",
    "    spacing=0\n",
    ").configure_view(\n",
    "    stroke=None\n",
    ")\n",
    "\n",
    "stripplot.interactive()"
   ]
  },
  {
   "cell_type": "markdown",
   "metadata": {},
   "source": [
    "From the above chart we see that the distribution of `MEMBERSHIP_TERM_YEARS` is almost similar in all the `PAYMENT_MODE` except for *Single-Premium* payment type. The members enrolled in *Single-Premium* are so few that we can count them which is **8**. Also, We observe that more customers prefer the *Annual* fees as compared to the *Monthly* fees payment method. *Semi-Annual* payments are less popular than *Monthly* payments but less as compared to the *Quarterly* payment method.\n",
    "\n",
    "Although the distribution is almost similar but *Annual* `PAYMENT_MODE` has the Maximum term Years of **83** years but the minimum term years of **9** can be seen in other payment modes as well."
   ]
  },
  {
   "cell_type": "code",
   "execution_count": 56,
   "metadata": {
    "scrolled": false
   },
   "outputs": [
    {
     "data": {
      "text/plain": [
       "<vega.vegalite.VegaLite at 0x7fd0857a5dd8>"
      ]
     },
     "metadata": {
      "jupyter-vega": "#323f51b1-4a81-47f0-8a26-44f4947f90f7"
     },
     "output_type": "display_data"
    },
    {
     "data": {
      "text/plain": []
     },
     "execution_count": 56,
     "metadata": {},
     "output_type": "execute_result"
    },
    {
     "data": {
      "image/png": "[encoded data removed]"
     },
     "metadata": {
      "jupyter-vega": "#323f51b1-4a81-47f0-8a26-44f4947f90f7"
     },
     "output_type": "display_data"
    }
   ],
   "source": [
    "alt.Chart(data2_cat, title=\"Bar chart of Membership Package vs Additional Members\").mark_bar().encode(\n",
    "    x='ADDITIONAL_MEMBERS:N',\n",
    "    y='count(ADDITIONAL_MEMBERS):Q',\n",
    "    color='ADDITIONAL_MEMBERS:N',\n",
    "    column='MEMBERSHIP_PACKAGE:N'\n",
    ").properties(height=300, width=250)\n",
    "\n"
   ]
  },
  {
   "cell_type": "markdown",
   "metadata": {},
   "source": [
    "From the chart above, we find that the package where additional members are eligible to use the club's facility is more popular as compared to the package in which no additional member is eligible to use the club's facility. Moreover, `MEMBERSHIP_PACKAGE` *TYPE-B* is considered by the members over *TYPE-A*.\n",
    "\n",
    "Aditionally, packages which include 1 or 3 members are liked by maximum members. "
   ]
  },
  {
   "cell_type": "code",
   "execution_count": 57,
   "metadata": {},
   "outputs": [
    {
     "data": {
      "text/plain": [
       "<vega.vegalite.VegaLite at 0x7fd0857b26d8>"
      ]
     },
     "metadata": {
      "jupyter-vega": "#6ed1e0b9-4e35-4f56-8e2d-e10a66c2a7d3"
     },
     "output_type": "display_data"
    },
    {
     "data": {
      "text/plain": []
     },
     "execution_count": 57,
     "metadata": {},
     "output_type": "execute_result"
    },
    {
     "data": {
      "image/png": "[encoded data removed]"
     },
     "metadata": {
      "jupyter-vega": "#6ed1e0b9-4e35-4f56-8e2d-e10a66c2a7d3"
     },
     "output_type": "display_data"
    }
   ],
   "source": [
    "alt.Chart(data2_cat, title='Scatter Plot showing Member Annual Income vs Annual Fees by Membership Status').mark_circle().encode(\n",
    "    x='ANNUAL_FEES:Q',\n",
    "    y='MEMBER_ANNUAL_INCOME:Q',\n",
    "    color='MEMBERSHIP_STATUS:N',\n",
    ").interactive()\n",
    "\n"
   ]
  },
  {
   "cell_type": "markdown",
   "metadata": {},
   "source": [
    "We see that most of the members have their `ANNUAL_FEES` of 100000 while others seem to have a customized packages. Moreover, The members whose membership is still *inforce* overshadows the members who have *cancelled* their memberships. "
   ]
  },
  {
   "cell_type": "code",
   "execution_count": 58,
   "metadata": {},
   "outputs": [
    {
     "data": {
      "text/plain": [
       "<vega.vegalite.VegaLite at 0x7fd0857a5860>"
      ]
     },
     "metadata": {
      "jupyter-vega": "#3636f4c7-48bf-476b-a22e-1abf33e54b79"
     },
     "output_type": "display_data"
    },
    {
     "data": {
      "text/plain": []
     },
     "execution_count": 58,
     "metadata": {},
     "output_type": "execute_result"
    },
    {
     "data": {
      "image/png": "[encoded data removed]"
     },
     "metadata": {
      "jupyter-vega": "#3636f4c7-48bf-476b-a22e-1abf33e54b79"
     },
     "output_type": "display_data"
    }
   ],
   "source": [
    "alt.Chart(data2_cat, title=\"plot of \").mark_bar().encode(\n",
    "    x=alt.X('MEMBERSHIP_STATUS:N', title=None),\n",
    "    y=alt.Y('count(MEMBER_MARITAL_STATUS):Q', axis=alt.Axis(grid=False, title=None)),\n",
    "    column=alt.Column('MEMBER_GENDER:N', title=None),\n",
    "    color=alt.Color('MEMBER_MARITAL_STATUS:N', scale=alt.Scale(range=['#96ceb4', '#ffcc5c','#ff6f69', '#0000ff']))\n",
    ").configure_view(\n",
    "    strokeOpacity=0    \n",
    ").properties(height=400, width=150)"
   ]
  },
  {
   "cell_type": "markdown",
   "metadata": {},
   "source": [
    "We observe from above graph that there are more *Male* members than *Female* members and about 45-50% have cancelled the Membership. Also, We see that majority of the members are *Married* followed by *Singles* which is then further followed by a small fraction of either *Widow* or *Divorced* Marital Status. "
   ]
  },
  {
   "cell_type": "markdown",
   "metadata": {},
   "source": [
    "# Feature Selection and Ranking <a> </a>"
   ]
  },
  {
   "cell_type": "code",
   "execution_count": 59,
   "metadata": {},
   "outputs": [
    {
     "data": {
      "text/plain": [
       "array([ 3,  5,  1,  0,  6,  4,  2, 14, 17, 15, 12, 13, 16,  8,  9, 11, 10,\n",
       "        7, 18])"
      ]
     },
     "execution_count": 59,
     "metadata": {},
     "output_type": "execute_result"
    }
   ],
   "source": [
    "## Using Random Forest Importance( RFI ) for feature selection\n",
    "from sklearn.ensemble import RandomForestClassifier\n",
    "\n",
    "num_features = 20\n",
    "model_rfi = RandomForestClassifier(n_estimators=100)\n",
    "model_rfi.fit(Data, target_encoded)\n",
    "fs_indices_rfi = np.argsort(model_rfi.feature_importances_)[::-1][0:num_features]\n",
    "fs_indices_rfi"
   ]
  },
  {
   "cell_type": "code",
   "execution_count": 60,
   "metadata": {},
   "outputs": [
    {
     "data": {
      "text/plain": [
       "array(['MEMBER_ANNUAL_INCOME', 'MEMBER_AGE_AT_ISSUE', 'ANNUAL_FEES',\n",
       "       'MEMBERSHIP_TERM_YEARS', 'ADDITIONAL_MEMBERS',\n",
       "       'MEMBERSHIP_PACKAGE', 'MEMBER_GENDER', 'PAYMENT_MODE_ANNUAL',\n",
       "       'PAYMENT_MODE_SEMI-ANNUAL', 'PAYMENT_MODE_MONTHLY',\n",
       "       'MEMBER_OCCUPATION_CD_One', 'MEMBER_OCCUPATION_CD_Two',\n",
       "       'PAYMENT_MODE_QUARTERLY', 'MEMBER_MARITAL_STATUS_M',\n",
       "       'MEMBER_MARITAL_STATUS_S', 'MEMBER_OCCUPATION_CD_Five',\n",
       "       'MEMBER_MARITAL_STATUS_W', 'MEMBER_MARITAL_STATUS_D',\n",
       "       'PAYMENT_MODE_SINGLE-PREMIUM'], dtype=object)"
      ]
     },
     "execution_count": 60,
     "metadata": {},
     "output_type": "execute_result"
    }
   ],
   "source": [
    "best_features_rfi = data3.columns[fs_indices_rfi].values\n",
    "best_features_rfi"
   ]
  },
  {
   "cell_type": "code",
   "execution_count": 61,
   "metadata": {},
   "outputs": [
    {
     "data": {
      "text/plain": [
       "array([0.2521133 , 0.2428875 , 0.1597479 , 0.14600247, 0.05286179,\n",
       "       0.03320685, 0.02507265, 0.01504077, 0.01235437, 0.01153121,\n",
       "       0.01010912, 0.00953085, 0.00770535, 0.00601828, 0.0058471 ,\n",
       "       0.00584267, 0.00256402, 0.00109248, 0.00047132])"
      ]
     },
     "execution_count": 61,
     "metadata": {},
     "output_type": "execute_result"
    }
   ],
   "source": [
    "## Importance measure\n",
    "feature_importances_rfi = model_rfi.feature_importances_[fs_indices_rfi]\n",
    "feature_importances_rfi"
   ]
  },
  {
   "cell_type": "code",
   "execution_count": 62,
   "metadata": {},
   "outputs": [],
   "source": [
    "#!pip install vega_datasets"
   ]
  },
  {
   "cell_type": "code",
   "execution_count": 63,
   "metadata": {},
   "outputs": [],
   "source": [
    "def plot_imp(best_features, scores, method_name, color):\n",
    "    \n",
    "    df = pd.DataFrame({'features': best_features, \n",
    "                       'importances': scores})\n",
    "    \n",
    "    chart = alt.Chart(df, \n",
    "                      width=500, \n",
    "                      title=method_name + ' Feature Importances'\n",
    "                     ).mark_bar(opacity=0.85, \n",
    "                                color=color).encode(\n",
    "        alt.X('features', title='Feature', sort=None, axis=alt.AxisConfig(labelAngle=45)),\n",
    "        alt.Y('importances', title='Importance')\n",
    "    )\n",
    "    \n",
    "    return chart"
   ]
  },
  {
   "cell_type": "code",
   "execution_count": 64,
   "metadata": {},
   "outputs": [
    {
     "data": {
      "text/plain": [
       "<vega.vegalite.VegaLite at 0x7fd0857a5be0>"
      ]
     },
     "metadata": {
      "jupyter-vega": "#40ae6220-f3a0-4f4d-b16e-c6cf9e9c48b3"
     },
     "output_type": "display_data"
    },
    {
     "data": {
      "text/plain": []
     },
     "execution_count": 64,
     "metadata": {},
     "output_type": "execute_result"
    },
    {
     "data": {
      "image/png": "[encoded data removed]"
     },
     "metadata": {
      "jupyter-vega": "#40ae6220-f3a0-4f4d-b16e-c6cf9e9c48b3"
     },
     "output_type": "display_data"
    }
   ],
   "source": [
    "plot_imp(best_features_rfi, feature_importances_rfi, 'Random Forest', 'blue')"
   ]
  },
  {
   "cell_type": "markdown",
   "metadata": {},
   "source": [
    "We find that the most important feature is MEMBER_ANNUAL_INCOME followed by MEMBER_AGE_AT_ISSUE, ANNUAL_FEES, MEMBERSHIP_TERM_YEARS, ADDITIONAL_MEMBERS and so on."
   ]
  },
  {
   "cell_type": "markdown",
   "metadata": {},
   "source": [
    "# Spliting Data into Training and Test Sets <a> </a>"
   ]
  },
  {
   "cell_type": "markdown",
   "metadata": {},
   "source": [
    "The data when imported had 10362 instances which when cleaned were left with 7275 instances.\n",
    "\n",
    "Now, The Descriptive features and the target feature are split into a training set and a test set by a ratio of 60:40. That is, we use 60 % of the data to build a classifier and evaluate its performance on the test set. We stratified the target feature because the proportion of both the classes *INFORCE* and *CANCELLED* is in the ratio of 4937/2338 which should not disproportionate while after splitting."
   ]
  },
  {
   "cell_type": "code",
   "execution_count": 65,
   "metadata": {},
   "outputs": [
    {
     "name": "stdout",
     "output_type": "stream",
     "text": [
      "(4365, 19)\n",
      "(2910, 19)\n"
     ]
    }
   ],
   "source": [
    "Data_train, Data_test, \\\n",
    "target_train, target_test = train_test_split(Data, \n",
    "                               target_encoded, \n",
    "                               test_size = 0.4, \n",
    "                               random_state=999, \n",
    "                               stratify = target_encoded)\n",
    "\n",
    "print(Data_train.shape)\n",
    "print(Data_test.shape)"
   ]
  },
  {
   "cell_type": "markdown",
   "metadata": {},
   "source": [
    "# Model Fitting <a> </a>"
   ]
  },
  {
   "cell_type": "markdown",
   "metadata": {},
   "source": [
    "Since we have a binary classification problem where the positive class is *CANCELLED* and negetive class is *INFORCE* because of the reason that we need to know the customers at risk then in that case we have a binary classification problem and the model built would be a \"classifier\".\n",
    "\n",
    "The Supervised Learning Models we will use are:\n",
    "\n",
    "- K-Nearest Neighbors (KNN)\n",
    "- (Gaussian) Naive Bayes (NB)\n",
    "- Decision Trees(DT)"
   ]
  },
  {
   "cell_type": "markdown",
   "metadata": {},
   "source": [
    "## K-Nearest Neighbors (KNN) <a> </a>"
   ]
  },
  {
   "cell_type": "markdown",
   "metadata": {},
   "source": [
    "We will try the Nearest Neighbor Classifier with 2 neighbors using Manhattan Distance."
   ]
  },
  {
   "cell_type": "code",
   "execution_count": 66,
   "metadata": {},
   "outputs": [
    {
     "data": {
      "text/plain": [
       "0.6597938144329897"
      ]
     },
     "execution_count": 66,
     "metadata": {},
     "output_type": "execute_result"
    }
   ],
   "source": [
    "knn_classifier = KNeighborsClassifier(n_neighbors=2, p=1)\n",
    "knn_classifier.fit(Data_train, target_train);\n",
    "knn_classifier.score(X=Data_test, y=target_test)"
   ]
  },
  {
   "cell_type": "markdown",
   "metadata": {},
   "source": [
    "We recieved an Accuracy rate of 65.9% in this case of test data with KNN model with 2 neighbors."
   ]
  },
  {
   "cell_type": "markdown",
   "metadata": {},
   "source": [
    "## Decision Trees(DT) <a> </a>"
   ]
  },
  {
   "cell_type": "markdown",
   "metadata": {},
   "source": [
    "We will fit the Decision Tree Classifier with Maximum depth of 4 using Information Gain where the split criterion is *gini* on the training set."
   ]
  },
  {
   "cell_type": "code",
   "execution_count": 67,
   "metadata": {},
   "outputs": [
    {
     "data": {
      "text/plain": [
       "0.6859106529209622"
      ]
     },
     "execution_count": 67,
     "metadata": {},
     "output_type": "execute_result"
    }
   ],
   "source": [
    "from sklearn.tree import DecisionTreeClassifier\n",
    "\n",
    "dt_classifier = DecisionTreeClassifier(max_depth=4,\n",
    "                                       criterion='gini',\n",
    "                                       random_state = 333)\n",
    "dt_classifier.fit(Data_train, target_train);\n",
    "dt_classifier.score(Data_test, target_test)"
   ]
  },
  {
   "cell_type": "markdown",
   "metadata": {},
   "source": [
    "The correct predictions made on the test set by Decision Tree is accurate at a rate of 68.6%."
   ]
  },
  {
   "cell_type": "markdown",
   "metadata": {},
   "source": [
    "## (Gaussian) Naive Bayes (NB) <a> </a>"
   ]
  },
  {
   "cell_type": "code",
   "execution_count": 68,
   "metadata": {},
   "outputs": [
    {
     "data": {
      "text/plain": [
       "0.5333333333333333"
      ]
     },
     "execution_count": 68,
     "metadata": {},
     "output_type": "execute_result"
    }
   ],
   "source": [
    "from sklearn.naive_bayes import GaussianNB\n",
    "\n",
    "nb_classifier = GaussianNB(var_smoothing=10**(-3))\n",
    "nb_classifier.fit(Data_train, target_train)\n",
    "nb_classifier.score(Data_test, target_test)"
   ]
  },
  {
   "cell_type": "markdown",
   "metadata": {},
   "source": [
    "We observed that the (Gaussian) Naive Bayes accuracy on the test data is just 53.3% which is much lower as compared to the K-Nearest Neighbors and Decision Trees models. \n",
    "\n",
    "&gt; Even though from the above Model Fitting we see that the decision Tree gave the best result in terms of accuracy but we still cannot conclude upon this. So for this we will conduct a \"paired t-test\" so as to understand that the difference is statistically significant or not. But before that we will do Hyperparameter tuning to see if we can improve the models any better by changing some parameters or not."
   ]
  },
  {
   "cell_type": "markdown",
   "metadata": {},
   "source": [
    "## Model Evaluation Strategy <a> </a>"
   ]
  },
  {
   "cell_type": "markdown",
   "metadata": {},
   "source": [
    "We will train and tune our models on 4365 rows of training data and test them on 2910 rows of test data. For each of the above models we will apply 5-fold stratified Cross-Validation with 3 repetitions for Hyperparameter tuning."
   ]
  },
  {
   "cell_type": "code",
   "execution_count": 69,
   "metadata": {},
   "outputs": [],
   "source": [
    "cv_method = RepeatedStratifiedKFold(n_splits=5, n_repeats=3, random_state=999)"
   ]
  },
  {
   "cell_type": "markdown",
   "metadata": {},
   "source": [
    "## Hyperparameter Tuning <a> </a>"
   ]
  },
  {
   "cell_type": "markdown",
   "metadata": {},
   "source": [
    "We are going to use the *Pipeline* method to stack the grid search for KNN and Decision Tree tuning while Randomized search for Naive Bayes onto the feature selection for tuning via cross validation."
   ]
  },
  {
   "cell_type": "markdown",
   "metadata": {},
   "source": [
    "Above we have used random forest for feature selection because it is one of the powerful feature importance estimator we find for our dataset. But here we used it as a part of the pipeline as RFIFeatureSelector()."
   ]
  },
  {
   "cell_type": "markdown",
   "metadata": {},
   "source": [
    "### K-Nearest Neighbors (KNN) <a> </a>"
   ]
  },
  {
   "cell_type": "markdown",
   "metadata": {},
   "source": [
    "We know that the main parameters in KNN are the number of neighbors and distance metric(p) which are our hypertuning parameters."
   ]
  },
  {
   "cell_type": "code",
   "execution_count": 70,
   "metadata": {},
   "outputs": [],
   "source": [
    "from sklearn.base import BaseEstimator, TransformerMixin\n",
    "\n",
    "# custom function for RFI feature selection inside a pipeline\n",
    "# here we use n_estimators=100\n",
    "class RFIFeatureSelector(BaseEstimator, TransformerMixin):\n",
    "    \n",
    "    # class constructor \n",
    "    # make sure class attributes end with a \"_\"\n",
    "    # per scikit-learn convention to avoid errors\n",
    "    def __init__(self, n_features_=10):\n",
    "        self.n_features_ = n_features_\n",
    "        self.fs_indices_ = None\n",
    "\n",
    "    # override the fit function\n",
    "    def fit(self, X, y):\n",
    "        from sklearn.ensemble import RandomForestClassifier\n",
    "        from numpy import argsort\n",
    "        model_rfi = RandomForestClassifier(n_estimators=100)\n",
    "        model_rfi.fit(X, y)\n",
    "        self.fs_indices_ = argsort(model_rfi.feature_importances_)[::-1][0:self.n_features_] \n",
    "        return self \n",
    "    \n",
    "    # override the transform function\n",
    "    def transform(self, X, y=None):\n",
    "        return X[:, self.fs_indices_]"
   ]
  },
  {
   "cell_type": "code",
   "execution_count": 71,
   "metadata": {},
   "outputs": [],
   "source": [
    "from sklearn.pipeline import Pipeline\n",
    "\n",
    "pipe_KNN = Pipeline(steps=[('rfi_fs', RFIFeatureSelector()), \n",
    "                           ('knn', KNeighborsClassifier())])\n",
    "\n",
    "params_pipe_KNN = {'rfi_fs__n_features_': [10, 20, Data.shape[1]],\n",
    "                   'knn__n_neighbors': [1, 5, 10, 15, 20],\n",
    "                   'knn__p': [1, 2]}\n",
    "\n",
    "gs_pipe_KNN = GridSearchCV(estimator=pipe_KNN, \n",
    "                           param_grid=params_pipe_KNN, \n",
    "                           cv=cv_method,\n",
    "                           refit=True,\n",
    "                           n_jobs=-1,\n",
    "                           scoring='accuracy',\n",
    "                           verbose=1) "
   ]
  },
  {
   "cell_type": "code",
   "execution_count": 72,
   "metadata": {},
   "outputs": [
    {
     "name": "stdout",
     "output_type": "stream",
     "text": [
      "Fitting 15 folds for each of 30 candidates, totalling 450 fits\n"
     ]
    },
    {
     "name": "stderr",
     "output_type": "stream",
     "text": [
      "[Parallel(n_jobs=-1)]: Using backend LokyBackend with 2 concurrent workers.\n",
      "[Parallel(n_jobs=-1)]: Done  46 tasks      | elapsed:   17.9s\n",
      "[Parallel(n_jobs=-1)]: Done 196 tasks      | elapsed:  1.2min\n",
      "[Parallel(n_jobs=-1)]: Done 446 tasks      | elapsed:  2.9min\n",
      "[Parallel(n_jobs=-1)]: Done 450 out of 450 | elapsed:  2.9min finished\n"
     ]
    }
   ],
   "source": [
    "gs_pipe_KNN.fit(Data_train, target_train);"
   ]
  },
  {
   "cell_type": "code",
   "execution_count": 73,
   "metadata": {},
   "outputs": [
    {
     "data": {
      "text/plain": [
       "{'knn__n_neighbors': 20, 'knn__p': 1, 'rfi_fs__n_features_': 10}"
      ]
     },
     "execution_count": 73,
     "metadata": {},
     "output_type": "execute_result"
    }
   ],
   "source": [
    "gs_pipe_KNN.best_params_"
   ]
  },
  {
   "cell_type": "code",
   "execution_count": 74,
   "metadata": {},
   "outputs": [
    {
     "data": {
      "text/plain": [
       "0.6677357770141276"
      ]
     },
     "execution_count": 74,
     "metadata": {},
     "output_type": "execute_result"
    }
   ],
   "source": [
    "gs_pipe_KNN.best_score_"
   ]
  },
  {
   "cell_type": "code",
   "execution_count": 75,
   "metadata": {},
   "outputs": [
    {
     "data": {
      "text/plain": [
       "Pipeline(memory=None,\n",
       "     steps=[('rfi_fs', RFIFeatureSelector(n_features_=10)), ('knn', KNeighborsClassifier(algorithm='auto', leaf_size=30, metric='minkowski',\n",
       "           metric_params=None, n_jobs=None, n_neighbors=20, p=1,\n",
       "           weights='uniform'))])"
      ]
     },
     "execution_count": 75,
     "metadata": {},
     "output_type": "execute_result"
    }
   ],
   "source": [
    "gs_pipe_KNN.best_estimator_"
   ]
  },
  {
   "cell_type": "markdown",
   "metadata": {},
   "source": [
    "We observe that the optimal KNN model has a mean Accuracy Score of 0.667. The best performance of KNN is achieved by selected 10 features with 20 nearest neighbors and p = 1, which is the Manhattan Distance, a special form of Minkowski Distance."
   ]
  },
  {
   "cell_type": "markdown",
   "metadata": {},
   "source": [
    "We will now have a look at other combinations on other models for improved results to see if there is any significant difference."
   ]
  },
  {
   "cell_type": "code",
   "execution_count": 76,
   "metadata": {},
   "outputs": [],
   "source": [
    "def get_search_results(gs):\n",
    "\n",
    "    def model_result(scores, params):\n",
    "        scores = {'mean_score': np.mean(scores),\n",
    "             'std_score': np.std(scores),\n",
    "             'min_score': np.min(scores),\n",
    "             'max_score': np.max(scores)}\n",
    "        return pd.Series({**params,**scores})\n",
    "\n",
    "    models = []\n",
    "    scores = []\n",
    "\n",
    "    for i in range(gs.n_splits_):\n",
    "        key = f\"split{i}_test_score\"\n",
    "        r = gs.cv_results_[key]        \n",
    "        scores.append(r.reshape(-1,1))\n",
    "\n",
    "    all_scores = np.hstack(scores)\n",
    "    for p, s in zip(gs.cv_results_['params'], all_scores):\n",
    "        models.append((model_result(s, p)))\n",
    "\n",
    "    pipe_results = pd.concat(models, axis=1).T.sort_values(['mean_score'], ascending=False)\n",
    "\n",
    "    columns_first = ['mean_score', 'std_score', 'max_score', 'min_score']\n",
    "    columns = columns_first + [c for c in pipe_results.columns if c not in columns_first]\n",
    "\n",
    "    return pipe_results[columns]"
   ]
  },
  {
   "cell_type": "code",
   "execution_count": 77,
   "metadata": {},
   "outputs": [
    {
     "data": {
      "text/html": [
       "<div>\n",
       "<style>\n",
       "    .dataframe tbody tr th:only-of-type {\n",
       "        vertical-align: middle;\n",
       "    }\n",
       "\n",
       "    .dataframe tbody tr th {\n",
       "        vertical-align: top;\n",
       "    }\n",
       "\n",
       "    .dataframe thead th {\n",
       "        text-align: right;\n",
       "    }\n",
       "</style>\n",
       "<table class=\"dataframe\">\n",
       "  <thead>\n",
       "    <tr style=\"text-align: right;\">\n",
       "      <th></th>\n",
       "      <th>mean_score</th>\n",
       "      <th>std_score</th>\n",
       "      <th>max_score</th>\n",
       "      <th>min_score</th>\n",
       "      <th>knn__n_neighbors</th>\n",
       "      <th>knn__p</th>\n",
       "      <th>rfi_fs__n_features_</th>\n",
       "    </tr>\n",
       "  </thead>\n",
       "  <tbody>\n",
       "    <tr>\n",
       "      <th>24</th>\n",
       "      <td>0.667732</td>\n",
       "      <td>0.012819</td>\n",
       "      <td>0.685355</td>\n",
       "      <td>0.645642</td>\n",
       "      <td>20.0</td>\n",
       "      <td>1.0</td>\n",
       "      <td>10.0</td>\n",
       "    </tr>\n",
       "    <tr>\n",
       "      <th>26</th>\n",
       "      <td>0.667731</td>\n",
       "      <td>0.010847</td>\n",
       "      <td>0.684211</td>\n",
       "      <td>0.648339</td>\n",
       "      <td>20.0</td>\n",
       "      <td>1.0</td>\n",
       "      <td>19.0</td>\n",
       "    </tr>\n",
       "    <tr>\n",
       "      <th>25</th>\n",
       "      <td>0.667731</td>\n",
       "      <td>0.010847</td>\n",
       "      <td>0.684211</td>\n",
       "      <td>0.648339</td>\n",
       "      <td>20.0</td>\n",
       "      <td>1.0</td>\n",
       "      <td>20.0</td>\n",
       "    </tr>\n",
       "    <tr>\n",
       "      <th>27</th>\n",
       "      <td>0.667124</td>\n",
       "      <td>0.013756</td>\n",
       "      <td>0.689931</td>\n",
       "      <td>0.644165</td>\n",
       "      <td>20.0</td>\n",
       "      <td>2.0</td>\n",
       "      <td>10.0</td>\n",
       "    </tr>\n",
       "    <tr>\n",
       "      <th>29</th>\n",
       "      <td>0.665746</td>\n",
       "      <td>0.014452</td>\n",
       "      <td>0.692220</td>\n",
       "      <td>0.641466</td>\n",
       "      <td>20.0</td>\n",
       "      <td>2.0</td>\n",
       "      <td>19.0</td>\n",
       "    </tr>\n",
       "  </tbody>\n",
       "</table>\n",
       "</div>"
      ],
      "text/plain": [
       "    mean_score  std_score  max_score  min_score  knn__n_neighbors  knn__p  \\\n",
       "24    0.667732   0.012819   0.685355   0.645642              20.0     1.0   \n",
       "26    0.667731   0.010847   0.684211   0.648339              20.0     1.0   \n",
       "25    0.667731   0.010847   0.684211   0.648339              20.0     1.0   \n",
       "27    0.667124   0.013756   0.689931   0.644165              20.0     2.0   \n",
       "29    0.665746   0.014452   0.692220   0.641466              20.0     2.0   \n",
       "\n",
       "    rfi_fs__n_features_  \n",
       "24                 10.0  \n",
       "26                 19.0  \n",
       "25                 20.0  \n",
       "27                 10.0  \n",
       "29                 19.0  "
      ]
     },
     "execution_count": 77,
     "metadata": {},
     "output_type": "execute_result"
    }
   ],
   "source": [
    "results_KNN = get_search_results(gs_pipe_KNN)\n",
    "results_KNN.head()"
   ]
  },
  {
   "cell_type": "markdown",
   "metadata": {},
   "source": [
    "We observe that the difference between the hyperparameter combinations is not really much when conditioned on the number of features selected. Let's visualize the results of the grid search corresponding to 10 selected features."
   ]
  },
  {
   "cell_type": "code",
   "execution_count": 78,
   "metadata": {},
   "outputs": [
    {
     "data": {
      "text/plain": [
       "<vega.vegalite.VegaLite at 0x7fd0857a5320>"
      ]
     },
     "metadata": {
      "jupyter-vega": "#61238f43-be1e-46d6-84fd-676e616817fb"
     },
     "output_type": "display_data"
    },
    {
     "data": {
      "text/plain": []
     },
     "execution_count": 78,
     "metadata": {},
     "output_type": "execute_result"
    },
    {
     "data": {
      "image/png": "[encoded data removed]"
     },
     "metadata": {
      "jupyter-vega": "#61238f43-be1e-46d6-84fd-676e616817fb"
     },
     "output_type": "display_data"
    }
   ],
   "source": [
    "results_KNN_20_features = results_KNN[results_KNN['rfi_fs__n_features_'] == 20.0]\n",
    "\n",
    "alt.Chart(results_KNN_20_features, \n",
    "          title='KNN Performance Comparison with 20 Features'\n",
    "         ).mark_line(point=True).encode(\n",
    "    alt.X('knn__n_neighbors', title='Number of Neighbors'),\n",
    "    alt.Y('mean_score', title='Accuracy Score', scale=alt.Scale(zero=False)),\n",
    "    alt.Color('knn__p:N', title='p'))"
   ]
  },
  {
   "cell_type": "markdown",
   "metadata": {},
   "source": [
    "## (Gaussian) Naive Bayes (NB) <a> </a>"
   ]
  },
  {
   "cell_type": "markdown",
   "metadata": {},
   "source": [
    "In the Gaussian Naive Bayes model we will try optimizing the var_smoothing which is the Laplace smoothing. We will grid search over the logspace(over the powers of 10). We will start with 10 and end with 10^(-3) with 500 different values. but we will perform randomized search over 100 different values for shorter run time.\n",
    "\n",
    "We will power transformation since Naive Bayes require features to follow Gaussian Distribution."
   ]
  },
  {
   "cell_type": "code",
   "execution_count": 79,
   "metadata": {},
   "outputs": [],
   "source": [
    "from sklearn.preprocessing import PowerTransformer\n",
    "Data_train_transformed = PowerTransformer().fit_transform(Data_train)"
   ]
  },
  {
   "cell_type": "code",
   "execution_count": 80,
   "metadata": {},
   "outputs": [
    {
     "name": "stdout",
     "output_type": "stream",
     "text": [
      "Fitting 15 folds for each of 100 candidates, totalling 1500 fits\n"
     ]
    },
    {
     "name": "stderr",
     "output_type": "stream",
     "text": [
      "[Parallel(n_jobs=-1)]: Using backend LokyBackend with 2 concurrent workers.\n",
      "[Parallel(n_jobs=-1)]: Done  46 tasks      | elapsed:   13.2s\n",
      "[Parallel(n_jobs=-1)]: Done 196 tasks      | elapsed:   56.8s\n",
      "[Parallel(n_jobs=-1)]: Done 446 tasks      | elapsed:  2.1min\n",
      "[Parallel(n_jobs=-1)]: Done 796 tasks      | elapsed:  3.8min\n",
      "[Parallel(n_jobs=-1)]: Done 1246 tasks      | elapsed:  6.0min\n",
      "[Parallel(n_jobs=-1)]: Done 1500 out of 1500 | elapsed:  7.2min finished\n"
     ]
    }
   ],
   "source": [
    "from sklearn.naive_bayes import GaussianNB\n",
    "from sklearn.model_selection import RandomizedSearchCV\n",
    "\n",
    "pipe_NB = Pipeline([('rfi_fs', RFIFeatureSelector()), \n",
    "                     ('nb', GaussianNB())])\n",
    "\n",
    "params_pipe_NB = {'rfi_fs__n_features_': [10, 20, Data.shape[1]],\n",
    "                  'nb__var_smoothing': np.logspace(1,-3, num=500)}\n",
    "\n",
    "n_iter_search = 100\n",
    "gs_pipe_NB = RandomizedSearchCV(estimator=pipe_NB, \n",
    "                          param_distributions=params_pipe_NB, \n",
    "                          cv=cv_method,\n",
    "                          refit=True,\n",
    "                          n_jobs=-1,\n",
    "                          scoring='accuracy',\n",
    "                          n_iter=n_iter_search,\n",
    "                          verbose=1) \n",
    "\n",
    "gs_pipe_NB.fit(Data_train_transformed, target_train);\n",
    "\n",
    "#-----------------------------\n",
    "#         Tried Running the GRID SEARCH but computation was very \n",
    "#         high but result was same as RANDOMIZED SEARCH\n",
    "#-----------------------------\n",
    "#gs_pipe_NB = GridSearchCV(estimator=pipe_NB,\n",
    "#                                param_grid=params_pipe_NB,\n",
    "#                                cv=cv_method,\n",
    "#                                refit=True,\n",
    "#                                n_jobs=-1,\n",
    "#                                scoring='accuracy',\n",
    "#                                verbose=1)\n",
    "\n",
    "#-----------------------------\n",
    "\n",
    "#Output:\n",
    "#Fitting 15 folds for each of 600 candidates, totalling 9000 fits\n",
    "#[Parallel(n_jobs=-1)]: Using backend LokyBackend with 2 concurrent workers.\n",
    "#[Parallel(n_jobs=-1)]: Done  46 tasks      | elapsed:   36.0s\n",
    "#[Parallel(n_jobs=-1)]: Done 196 tasks      | elapsed:  2.2min\n",
    "#[Parallel(n_jobs=-1)]: Done 446 tasks      | elapsed:  4.6min\n",
    "#[Parallel(n_jobs=-1)]: Done 796 tasks      | elapsed:  8.2min\n",
    "#[Parallel(n_jobs=-1)]: Done 1246 tasks      | elapsed: 12.7min\n",
    "#[Parallel(n_jobs=-1)]: Done 1796 tasks      | elapsed: 18.1min\n",
    "#[Parallel(n_jobs=-1)]: Done 2446 tasks      | elapsed: 24.4min\n",
    "#[Parallel(n_jobs=-1)]: Done 3196 tasks      | elapsed: 31.7min\n",
    "#[Parallel(n_jobs=-1)]: Done 4046 tasks      | elapsed: 40.1min\n",
    "#[Parallel(n_jobs=-1)]: Done 4996 tasks      | elapsed: 49.4min\n",
    "#[Parallel(n_jobs=-1)]: Done 6046 tasks      | elapsed: 59.8min\n",
    "#[Parallel(n_jobs=-1)]: Done 7196 tasks      | elapsed: 71.2min\n",
    "#[Parallel(n_jobs=-1)]: Done 8446 tasks      | elapsed: 83.6min\n",
    "#[Parallel(n_jobs=-1)]: Done 9000 out of 9000 | elapsed: 88.9min finished\n",
    "\n",
    "#------------------------------\n",
    "\n",
    "#gs_pipe_NB.best_params_\n",
    "#{'nb__var_smoothing': 3.001835813575589, 'rfi_fs__n_features_': 20}\n",
    "\n",
    "#-------------------------------\n",
    "\n",
    "#gs_pipe_NB.best_score_\n",
    "#0.679725085910653"
   ]
  },
  {
   "cell_type": "code",
   "execution_count": 81,
   "metadata": {},
   "outputs": [
    {
     "data": {
      "text/plain": [
       "{'rfi_fs__n_features_': 19, 'nb__var_smoothing': 3.303985069871858}"
      ]
     },
     "execution_count": 81,
     "metadata": {},
     "output_type": "execute_result"
    }
   ],
   "source": [
    "gs_pipe_NB.best_params_"
   ]
  },
  {
   "cell_type": "code",
   "execution_count": 82,
   "metadata": {},
   "outputs": [
    {
     "data": {
      "text/plain": [
       "0.6795723558610156"
      ]
     },
     "execution_count": 82,
     "metadata": {},
     "output_type": "execute_result"
    }
   ],
   "source": [
    "gs_pipe_NB.best_score_"
   ]
  },
  {
   "cell_type": "markdown",
   "metadata": {},
   "source": [
    "The optimal NB yiels an Accuracy score of 0.679 (with all the features) - slightly higher than that of KNN. At this point, we cannot conclude NB outperforms KNN. We need to perform a paired t-test on the test data."
   ]
  },
  {
   "cell_type": "code",
   "execution_count": 83,
   "metadata": {},
   "outputs": [
    {
     "data": {
      "text/html": [
       "<div>\n",
       "<style>\n",
       "    .dataframe tbody tr th:only-of-type {\n",
       "        vertical-align: middle;\n",
       "    }\n",
       "\n",
       "    .dataframe tbody tr th {\n",
       "        vertical-align: top;\n",
       "    }\n",
       "\n",
       "    .dataframe thead th {\n",
       "        text-align: right;\n",
       "    }\n",
       "</style>\n",
       "<table class=\"dataframe\">\n",
       "  <thead>\n",
       "    <tr style=\"text-align: right;\">\n",
       "      <th></th>\n",
       "      <th>mean_score</th>\n",
       "      <th>std_score</th>\n",
       "      <th>max_score</th>\n",
       "      <th>min_score</th>\n",
       "      <th>rfi_fs__n_features_</th>\n",
       "      <th>nb__var_smoothing</th>\n",
       "    </tr>\n",
       "  </thead>\n",
       "  <tbody>\n",
       "    <tr>\n",
       "      <th>55</th>\n",
       "      <td>0.679572</td>\n",
       "      <td>0.002431</td>\n",
       "      <td>0.682703</td>\n",
       "      <td>0.674312</td>\n",
       "      <td>19.0</td>\n",
       "      <td>3.303985</td>\n",
       "    </tr>\n",
       "    <tr>\n",
       "      <th>56</th>\n",
       "      <td>0.679418</td>\n",
       "      <td>0.004100</td>\n",
       "      <td>0.684211</td>\n",
       "      <td>0.668578</td>\n",
       "      <td>20.0</td>\n",
       "      <td>2.903527</td>\n",
       "    </tr>\n",
       "    <tr>\n",
       "      <th>94</th>\n",
       "      <td>0.679418</td>\n",
       "      <td>0.004078</td>\n",
       "      <td>0.684211</td>\n",
       "      <td>0.668578</td>\n",
       "      <td>19.0</td>\n",
       "      <td>2.957617</td>\n",
       "    </tr>\n",
       "    <tr>\n",
       "      <th>2</th>\n",
       "      <td>0.679344</td>\n",
       "      <td>0.001555</td>\n",
       "      <td>0.682703</td>\n",
       "      <td>0.676201</td>\n",
       "      <td>20.0</td>\n",
       "      <td>3.690917</td>\n",
       "    </tr>\n",
       "    <tr>\n",
       "      <th>70</th>\n",
       "      <td>0.678655</td>\n",
       "      <td>0.004122</td>\n",
       "      <td>0.684994</td>\n",
       "      <td>0.669725</td>\n",
       "      <td>19.0</td>\n",
       "      <td>3.126007</td>\n",
       "    </tr>\n",
       "  </tbody>\n",
       "</table>\n",
       "</div>"
      ],
      "text/plain": [
       "    mean_score  std_score  max_score  min_score  rfi_fs__n_features_  \\\n",
       "55    0.679572   0.002431   0.682703   0.674312                 19.0   \n",
       "56    0.679418   0.004100   0.684211   0.668578                 20.0   \n",
       "94    0.679418   0.004078   0.684211   0.668578                 19.0   \n",
       "2     0.679344   0.001555   0.682703   0.676201                 20.0   \n",
       "70    0.678655   0.004122   0.684994   0.669725                 19.0   \n",
       "\n",
       "    nb__var_smoothing  \n",
       "55           3.303985  \n",
       "56           2.903527  \n",
       "94           2.957617  \n",
       "2            3.690917  \n",
       "70           3.126007  "
      ]
     },
     "execution_count": 83,
     "metadata": {},
     "output_type": "execute_result"
    }
   ],
   "source": [
    "results_NB = get_search_results(gs_pipe_NB)\n",
    "results_NB.head()"
   ]
  },
  {
   "cell_type": "markdown",
   "metadata": {},
   "source": [
    "The graph is as shown below of the var. smoothing vs Accuracy Scores."
   ]
  },
  {
   "cell_type": "code",
   "execution_count": 84,
   "metadata": {
    "scrolled": true
   },
   "outputs": [
    {
     "data": {
      "text/plain": [
       "<vega.vegalite.VegaLite at 0x7fd0856c9eb8>"
      ]
     },
     "metadata": {
      "jupyter-vega": "#c7c6e3db-5495-463d-94e4-14f0968ee6ce"
     },
     "output_type": "display_data"
    },
    {
     "data": {
      "text/plain": []
     },
     "execution_count": 84,
     "metadata": {},
     "output_type": "execute_result"
    },
    {
     "data": {
      "image/png": "[encoded data removed]"
     },
     "metadata": {
      "jupyter-vega": "#c7c6e3db-5495-463d-94e4-14f0968ee6ce"
     },
     "output_type": "display_data"
    }
   ],
   "source": [
    "results_NB_10_features = results_NB[results_NB['rfi_fs__n_features_'] == 10.0]\n",
    "\n",
    "alt.Chart(results_NB_10_features, \n",
    "          title='NB Performance Comparison with 10 Features'\n",
    "         ).mark_line(point=True).encode(\n",
    "    alt.X('nb__var_smoothing', title='Var. Smoothing'),\n",
    "    alt.Y('mean_score', title='accuracy Score', scale=alt.Scale(zero=False))\n",
    ").interactive()"
   ]
  },
  {
   "cell_type": "markdown",
   "metadata": {},
   "source": [
    "## Decision Trees(DT) <a> </a>"
   ]
  },
  {
   "cell_type": "markdown",
   "metadata": {},
   "source": [
    "We will use gini index to maximize information gain. We will determine the best combination of maximum depth and minimum split."
   ]
  },
  {
   "cell_type": "code",
   "execution_count": 85,
   "metadata": {},
   "outputs": [
    {
     "name": "stdout",
     "output_type": "stream",
     "text": [
      "Fitting 15 folds for each of 36 candidates, totalling 540 fits\n"
     ]
    },
    {
     "name": "stderr",
     "output_type": "stream",
     "text": [
      "[Parallel(n_jobs=-1)]: Using backend LokyBackend with 2 concurrent workers.\n",
      "[Parallel(n_jobs=-1)]: Done  46 tasks      | elapsed:   13.8s\n",
      "[Parallel(n_jobs=-1)]: Done 196 tasks      | elapsed:   56.0s\n",
      "[Parallel(n_jobs=-1)]: Done 446 tasks      | elapsed:  2.1min\n",
      "[Parallel(n_jobs=-1)]: Done 540 out of 540 | elapsed:  2.6min finished\n"
     ]
    }
   ],
   "source": [
    "from sklearn.tree import DecisionTreeClassifier\n",
    "\n",
    "pipe_DT = Pipeline([('rfi_fs', RFIFeatureSelector()),\n",
    "                    ('dt', DecisionTreeClassifier(random_state=111))])\n",
    "\n",
    "params_pipe_DT = {'dt__criterion': ['gini', 'entropy'],\n",
    "                  'rfi_fs__n_features_': [10, 20, Data.shape[1]],\n",
    "                  'dt__max_depth': [3, 4, 5],\n",
    "                  'dt__min_samples_split': [2, 5]}\n",
    "\n",
    "gs_pipe_DT = GridSearchCV(estimator=pipe_DT, \n",
    "                          param_grid=params_pipe_DT, \n",
    "                          cv=cv_method,\n",
    "                          refit=True,\n",
    "                          n_jobs=-1,\n",
    "                          scoring='accuracy',\n",
    "                          verbose=1) \n",
    "\n",
    "gs_pipe_DT.fit(Data_train, target_train);"
   ]
  },
  {
   "cell_type": "code",
   "execution_count": 86,
   "metadata": {},
   "outputs": [
    {
     "data": {
      "text/plain": [
       "{'dt__criterion': 'entropy',\n",
       " 'dt__max_depth': 5,\n",
       " 'dt__min_samples_split': 2,\n",
       " 'rfi_fs__n_features_': 10}"
      ]
     },
     "execution_count": 86,
     "metadata": {},
     "output_type": "execute_result"
    }
   ],
   "source": [
    "gs_pipe_DT.best_params_"
   ]
  },
  {
   "cell_type": "code",
   "execution_count": 87,
   "metadata": {},
   "outputs": [
    {
     "data": {
      "text/plain": [
       "0.6881252386407025"
      ]
     },
     "execution_count": 87,
     "metadata": {},
     "output_type": "execute_result"
    }
   ],
   "source": [
    "gs_pipe_DT.best_score_"
   ]
  },
  {
   "cell_type": "markdown",
   "metadata": {},
   "source": [
    "The best parameters for the Decision Treee has a maximum depth of 5 and minimum split of 2 and with 10 features with Accuracy at 68.8%."
   ]
  },
  {
   "cell_type": "code",
   "execution_count": 88,
   "metadata": {},
   "outputs": [
    {
     "data": {
      "text/plain": [
       "<vega.vegalite.VegaLite at 0x7fd085678da0>"
      ]
     },
     "metadata": {
      "jupyter-vega": "#4c93869e-efdb-4a62-9c6a-249c3f742b38"
     },
     "output_type": "display_data"
    },
    {
     "data": {
      "text/plain": []
     },
     "execution_count": 88,
     "metadata": {},
     "output_type": "execute_result"
    },
    {
     "data": {
      "image/png": "[encoded data removed]"
     },
     "metadata": {
      "jupyter-vega": "#4c93869e-efdb-4a62-9c6a-249c3f742b38"
     },
     "output_type": "display_data"
    }
   ],
   "source": [
    "results_DT = get_search_results(gs_pipe_DT)\n",
    "\n",
    "results_DT_10_features = results_DT[results_DT['rfi_fs__n_features_'] == 10.0]\n",
    "\n",
    "alt.Chart(results_DT_10_features, \n",
    "          title='DT Performance Comparison with 10 Features'\n",
    "         ).mark_line(point=True).encode(\n",
    "    alt.X('dt__min_samples_split', title='Min Samples for Split'),\n",
    "    alt.Y('mean_score', title='Accuracy Score', scale=alt.Scale(zero=False)),\n",
    "    alt.Color('dt__max_depth:N', title='Max Depth')\n",
    ")"
   ]
  },
  {
   "cell_type": "markdown",
   "metadata": {},
   "source": [
    "### Further Fine Tuning"
   ]
  },
  {
   "cell_type": "markdown",
   "metadata": {},
   "source": [
    "#### Decision Tree"
   ]
  },
  {
   "cell_type": "code",
   "execution_count": 89,
   "metadata": {},
   "outputs": [
    {
     "name": "stdout",
     "output_type": "stream",
     "text": [
      "Fitting 15 folds for each of 18 candidates, totalling 270 fits\n"
     ]
    },
    {
     "name": "stderr",
     "output_type": "stream",
     "text": [
      "[Parallel(n_jobs=-1)]: Using backend LokyBackend with 2 concurrent workers.\n",
      "[Parallel(n_jobs=-1)]: Done  46 tasks      | elapsed:   13.4s\n",
      "[Parallel(n_jobs=-1)]: Done 196 tasks      | elapsed:   59.5s\n",
      "[Parallel(n_jobs=-1)]: Done 270 out of 270 | elapsed:  1.4min finished\n"
     ]
    }
   ],
   "source": [
    "params_pipe_DT2 = {'rfi_fs__n_features_': [10],\n",
    "                  'dt__max_depth': [5, 10, 15],\n",
    "                  'dt__min_samples_split': [5, 50, 100, 150, 1000, 10000]}\n",
    "\n",
    "gs_pipe_DT2 = GridSearchCV(estimator=pipe_DT, \n",
    "                          param_grid=params_pipe_DT2, \n",
    "                          cv=cv_method,\n",
    "                          refit=True,\n",
    "                          n_jobs=-1,\n",
    "                          scoring='accuracy',\n",
    "                          verbose=1) \n",
    "\n",
    "gs_pipe_DT2.fit(Data_train, target_train);"
   ]
  },
  {
   "cell_type": "code",
   "execution_count": 90,
   "metadata": {},
   "outputs": [
    {
     "data": {
      "text/plain": [
       "{'dt__max_depth': 5, 'dt__min_samples_split': 50, 'rfi_fs__n_features_': 10}"
      ]
     },
     "execution_count": 90,
     "metadata": {},
     "output_type": "execute_result"
    }
   ],
   "source": [
    "gs_pipe_DT2.best_params_"
   ]
  },
  {
   "cell_type": "code",
   "execution_count": 91,
   "metadata": {},
   "outputs": [
    {
     "data": {
      "text/plain": [
       "0.6878197785414281"
      ]
     },
     "execution_count": 91,
     "metadata": {},
     "output_type": "execute_result"
    }
   ],
   "source": [
    "gs_pipe_DT2.best_score_"
   ]
  },
  {
   "cell_type": "markdown",
   "metadata": {},
   "source": [
    "The best parameters for the Decision Treee has a maximum depth of 5 and minimum split of 50 with Accuracy at 68.7% with 10 selected featurees"
   ]
  },
  {
   "cell_type": "code",
   "execution_count": 92,
   "metadata": {},
   "outputs": [
    {
     "data": {
      "text/html": [
       "<div>\n",
       "<style>\n",
       "    .dataframe tbody tr th:only-of-type {\n",
       "        vertical-align: middle;\n",
       "    }\n",
       "\n",
       "    .dataframe tbody tr th {\n",
       "        vertical-align: top;\n",
       "    }\n",
       "\n",
       "    .dataframe thead th {\n",
       "        text-align: right;\n",
       "    }\n",
       "</style>\n",
       "<table class=\"dataframe\">\n",
       "  <thead>\n",
       "    <tr style=\"text-align: right;\">\n",
       "      <th></th>\n",
       "      <th>mean_score</th>\n",
       "      <th>std_score</th>\n",
       "      <th>max_score</th>\n",
       "      <th>min_score</th>\n",
       "      <th>dt__max_depth</th>\n",
       "      <th>dt__min_samples_split</th>\n",
       "      <th>rfi_fs__n_features_</th>\n",
       "    </tr>\n",
       "  </thead>\n",
       "  <tbody>\n",
       "    <tr>\n",
       "      <th>1</th>\n",
       "      <td>0.687820</td>\n",
       "      <td>0.010757</td>\n",
       "      <td>0.709862</td>\n",
       "      <td>0.664376</td>\n",
       "      <td>5.0</td>\n",
       "      <td>50.0</td>\n",
       "      <td>10.0</td>\n",
       "    </tr>\n",
       "    <tr>\n",
       "      <th>0</th>\n",
       "      <td>0.685988</td>\n",
       "      <td>0.011406</td>\n",
       "      <td>0.708716</td>\n",
       "      <td>0.659794</td>\n",
       "      <td>5.0</td>\n",
       "      <td>5.0</td>\n",
       "      <td>10.0</td>\n",
       "    </tr>\n",
       "    <tr>\n",
       "      <th>2</th>\n",
       "      <td>0.683390</td>\n",
       "      <td>0.011931</td>\n",
       "      <td>0.705275</td>\n",
       "      <td>0.654817</td>\n",
       "      <td>5.0</td>\n",
       "      <td>100.0</td>\n",
       "      <td>10.0</td>\n",
       "    </tr>\n",
       "    <tr>\n",
       "      <th>16</th>\n",
       "      <td>0.682014</td>\n",
       "      <td>0.007733</td>\n",
       "      <td>0.697941</td>\n",
       "      <td>0.661697</td>\n",
       "      <td>15.0</td>\n",
       "      <td>1000.0</td>\n",
       "      <td>10.0</td>\n",
       "    </tr>\n",
       "    <tr>\n",
       "      <th>10</th>\n",
       "      <td>0.682014</td>\n",
       "      <td>0.007733</td>\n",
       "      <td>0.697941</td>\n",
       "      <td>0.661697</td>\n",
       "      <td>10.0</td>\n",
       "      <td>1000.0</td>\n",
       "      <td>10.0</td>\n",
       "    </tr>\n",
       "  </tbody>\n",
       "</table>\n",
       "</div>"
      ],
      "text/plain": [
       "    mean_score  std_score  max_score  min_score  dt__max_depth  \\\n",
       "1     0.687820   0.010757   0.709862   0.664376            5.0   \n",
       "0     0.685988   0.011406   0.708716   0.659794            5.0   \n",
       "2     0.683390   0.011931   0.705275   0.654817            5.0   \n",
       "16    0.682014   0.007733   0.697941   0.661697           15.0   \n",
       "10    0.682014   0.007733   0.697941   0.661697           10.0   \n",
       "\n",
       "    dt__min_samples_split  rfi_fs__n_features_  \n",
       "1                    50.0                 10.0  \n",
       "0                     5.0                 10.0  \n",
       "2                   100.0                 10.0  \n",
       "16                 1000.0                 10.0  \n",
       "10                 1000.0                 10.0  "
      ]
     },
     "execution_count": 92,
     "metadata": {},
     "output_type": "execute_result"
    }
   ],
   "source": [
    "results_DT = get_search_results(gs_pipe_DT2)\n",
    "results_DT.head()"
   ]
  },
  {
   "cell_type": "code",
   "execution_count": 93,
   "metadata": {},
   "outputs": [
    {
     "data": {
      "text/plain": [
       "<vega.vegalite.VegaLite at 0x7fd0856b9cf8>"
      ]
     },
     "metadata": {
      "jupyter-vega": "#85b364a7-1994-4767-bda6-2809de512eb8"
     },
     "output_type": "display_data"
    },
    {
     "data": {
      "text/plain": []
     },
     "execution_count": 93,
     "metadata": {},
     "output_type": "execute_result"
    },
    {
     "data": {
      "image/png": "[encoded data removed]"
     },
     "metadata": {
      "jupyter-vega": "#85b364a7-1994-4767-bda6-2809de512eb8"
     },
     "output_type": "display_data"
    }
   ],
   "source": [
    "results_DT_10_features = results_DT[results_DT['rfi_fs__n_features_'] == 10.0]\n",
    "\n",
    "alt.Chart(results_DT_10_features, \n",
    "          title='DT Performance Comparison with 10 Features - Extended'\n",
    "         ).mark_line(point=True).encode(\n",
    "    alt.X('dt__min_samples_split', title='Min Samples for Split'),\n",
    "    alt.Y('mean_score', title='Accuracy Score', scale=alt.Scale(zero=False)),\n",
    "    alt.Color('dt__max_depth:N', title='Max Depth')\n",
    ")"
   ]
  },
  {
   "cell_type": "markdown",
   "metadata": {},
   "source": [
    "# Performance Comparison <a> </a>"
   ]
  },
  {
   "cell_type": "markdown",
   "metadata": {},
   "source": [
    "Now since we have hypertuned our parameters by training within the cross-validation framework. \n",
    "\n",
    "We will now fit each of the tuned classifier on the 2910 rows in the test data in the same way of cross-validation to figure out which classifier performed better.\n",
    "\n",
    "We know that cross vaalidation is a random process so we will to a pairwise t-tests to find any tweak or lag in the pairs of classifiers to know which are statistically signifant and which are not.\n",
    "\n",
    "We will to paired t-test for the Accuracy scores between the following tuned classifier combinations:\n",
    "\n",
    "- KNN vs NB\n",
    "- DT vs KNN\n",
    "- NB vs DT"
   ]
  },
  {
   "cell_type": "markdown",
   "metadata": {},
   "source": [
    "# Discussion <a> </a>"
   ]
  },
  {
   "cell_type": "markdown",
   "metadata": {},
   "source": [
    "We could not conduct a proper analysis as most of the rows had to be removed because they could induce biasness. If we would have been provided adequate knowledge about why the values were missing and what are the reasons that the \n",
    "\n",
    "***From hyperparameter tuning we are selecting the best feature as Decision Tree with maximum depth of 5 and minimum split of 50 with 10 features selected.***"
   ]
  },
  {
   "cell_type": "code",
   "execution_count": 94,
   "metadata": {},
   "outputs": [
    {
     "data": {
      "text/plain": [
       "0.6721776098252243"
      ]
     },
     "execution_count": 94,
     "metadata": {},
     "output_type": "execute_result"
    }
   ],
   "source": [
    "from sklearn.model_selection import cross_val_score\n",
    "\n",
    "cv_method_ttest = StratifiedKFold(n_splits=10, random_state=111)\n",
    "\n",
    "cv_results_KNN = cross_val_score(estimator=gs_pipe_KNN.best_estimator_,\n",
    "                                 X=Data_test,\n",
    "                                 y=target_test, \n",
    "                                 cv=cv_method_ttest, \n",
    "                                 n_jobs=-2,\n",
    "                                 scoring='accuracy')\n",
    "cv_results_KNN.mean()"
   ]
  },
  {
   "cell_type": "code",
   "execution_count": 95,
   "metadata": {},
   "outputs": [
    {
     "data": {
      "text/plain": [
       "0.6804085970713273"
      ]
     },
     "execution_count": 95,
     "metadata": {},
     "output_type": "execute_result"
    }
   ],
   "source": [
    "Data_test_transformed = PowerTransformer().fit_transform(Data_test)\n",
    "\n",
    "cv_results_NB = cross_val_score(estimator=gs_pipe_NB.best_estimator_,\n",
    "                                X=Data_test_transformed,\n",
    "                                y=target_test, \n",
    "                                cv=cv_method_ttest, \n",
    "                                n_jobs=-2,\n",
    "                                scoring='accuracy')\n",
    "cv_results_NB.mean()"
   ]
  },
  {
   "cell_type": "code",
   "execution_count": 96,
   "metadata": {},
   "outputs": [
    {
     "data": {
      "text/plain": [
       "0.6667217760982523"
      ]
     },
     "execution_count": 96,
     "metadata": {},
     "output_type": "execute_result"
    }
   ],
   "source": [
    "cv_results_DT = cross_val_score(estimator=gs_pipe_DT2.best_estimator_,\n",
    "                                X=Data_test,\n",
    "                                y=target_test, \n",
    "                                cv=cv_method_ttest, \n",
    "                                n_jobs=-2,\n",
    "                                scoring='accuracy')\n",
    "cv_results_DT.mean()"
   ]
  },
  {
   "cell_type": "code",
   "execution_count": 97,
   "metadata": {},
   "outputs": [
    {
     "name": "stdout",
     "output_type": "stream",
     "text": [
      "Ttest_relResult(statistic=-2.0566382517184922, pvalue=0.0698592717646444)\n",
      "Ttest_relResult(statistic=-0.688383485101661, pvalue=0.5085646563175696)\n",
      "Ttest_relResult(statistic=-1.7922272313409948, pvalue=0.10669463311568582)\n"
     ]
    }
   ],
   "source": [
    "from scipy import stats\n",
    "\n",
    "print(stats.ttest_rel(cv_results_KNN, cv_results_NB))\n",
    "print(stats.ttest_rel(cv_results_DT, cv_results_KNN))\n",
    "print(stats.ttest_rel(cv_results_DT, cv_results_NB))"
   ]
  },
  {
   "cell_type": "code",
   "execution_count": 98,
   "metadata": {},
   "outputs": [],
   "source": [
    "pred_KNN = gs_pipe_KNN.predict(Data_test)"
   ]
  },
  {
   "cell_type": "code",
   "execution_count": 99,
   "metadata": {},
   "outputs": [],
   "source": [
    "Data_test_transformed = PowerTransformer().fit_transform(Data_test)\n",
    "pred_NB = gs_pipe_NB.predict(Data_test_transformed)"
   ]
  },
  {
   "cell_type": "code",
   "execution_count": 100,
   "metadata": {},
   "outputs": [],
   "source": [
    "pred_DT = gs_pipe_DT2.predict(Data_test)"
   ]
  },
  {
   "cell_type": "code",
   "execution_count": 101,
   "metadata": {},
   "outputs": [
    {
     "name": "stdout",
     "output_type": "stream",
     "text": [
      "\n",
      "Classification report for K-Nearest Neighbor\n",
      "              precision    recall  f1-score   support\n",
      "\n",
      "           0       0.70      0.93      0.80      1975\n",
      "           1       0.50      0.14      0.21       935\n",
      "\n",
      "   micro avg       0.68      0.68      0.68      2910\n",
      "   macro avg       0.60      0.54      0.51      2910\n",
      "weighted avg       0.63      0.68      0.61      2910\n",
      "\n",
      "\n",
      "Classification report for Naive Bayes\n",
      "              precision    recall  f1-score   support\n",
      "\n",
      "           0       0.68      1.00      0.81      1975\n",
      "           1       0.76      0.02      0.03       935\n",
      "\n",
      "   micro avg       0.68      0.68      0.68      2910\n",
      "   macro avg       0.72      0.51      0.42      2910\n",
      "weighted avg       0.71      0.68      0.56      2910\n",
      "\n",
      "\n",
      "Classification report for Decision Tree\n",
      "              precision    recall  f1-score   support\n",
      "\n",
      "           0       0.70      0.94      0.80      1975\n",
      "           1       0.52      0.13      0.20       935\n",
      "\n",
      "   micro avg       0.68      0.68      0.68      2910\n",
      "   macro avg       0.61      0.53      0.50      2910\n",
      "weighted avg       0.64      0.68      0.61      2910\n",
      "\n"
     ]
    }
   ],
   "source": [
    "from sklearn import metrics\n",
    "print(\"\\nClassification report for K-Nearest Neighbor\") \n",
    "print(metrics.classification_report(target_test, pred_KNN))\n",
    "print(\"\\nClassification report for Naive Bayes\") \n",
    "print(metrics.classification_report(target_test, pred_NB))\n",
    "print(\"\\nClassification report for Decision Tree\") \n",
    "print(metrics.classification_report(target_test, pred_DT))"
   ]
  },
  {
   "cell_type": "markdown",
   "metadata": {},
   "source": [
    "The confusion Matrices are as below:"
   ]
  },
  {
   "cell_type": "code",
   "execution_count": 102,
   "metadata": {},
   "outputs": [
    {
     "name": "stdout",
     "output_type": "stream",
     "text": [
      "\n",
      "Confusion matrix for K-Nearest Neighbor\n",
      "[[1846  129]\n",
      " [ 807  128]]\n",
      "\n",
      "Confusion matrix for Naive Bayes\n",
      "[[1970    5]\n",
      " [ 919   16]]\n",
      "\n",
      "Confusion matrix for Decision Tree\n",
      "[[1866  109]\n",
      " [ 818  117]]\n"
     ]
    }
   ],
   "source": [
    "from sklearn import metrics\n",
    "print(\"\\nConfusion matrix for K-Nearest Neighbor\") \n",
    "print(metrics.confusion_matrix(target_test, pred_KNN))\n",
    "print(\"\\nConfusion matrix for Naive Bayes\") \n",
    "print(metrics.confusion_matrix(target_test, pred_NB))\n",
    "print(\"\\nConfusion matrix for Decision Tree\") \n",
    "print(metrics.confusion_matrix(target_test, pred_DT))"
   ]
  },
  {
   "cell_type": "markdown",
   "metadata": {},
   "source": [
    "# References <a> </a>"
   ]
  },
  {
   "cell_type": "markdown",
   "metadata": {},
   "source": [
    "Kaggle.com. 2020. Club Data Set. [online] Available at: &lt;https: club-data-set?=\"\" sonannguyenngoc=\"\" www.kaggle.com=\"\"&gt; [Accessed 31 May 2020].&lt;/https:&gt;"
   ]
  }
 ],
 "metadata": {
  "kernelspec": {
   "display_name": "Python 3.6",
   "language": "python",
   "name": "python36"
  },
  "language_info": {
   "codemirror_mode": {
    "name": "ipython",
    "version": 3
   },
   "file_extension": ".py",
   "mimetype": "text/x-python",
   "name": "python",
   "nbconvert_exporter": "python",
   "pygments_lexer": "ipython3",
   "version": "3.6.6"
  }
 },
 "nbformat": 4,
 "nbformat_minor": 2
}
